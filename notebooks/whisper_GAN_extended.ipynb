{
 "cells": [
  {
   "cell_type": "markdown",
   "metadata": {
    "id": "I5thx0SEBIIN"
   },
   "source": [
    "# Initialisation and Dependencies"
   ]
  },
  {
   "cell_type": "code",
   "execution_count": 1,
   "metadata": {
    "tags": []
   },
   "outputs": [],
   "source": [
    "import sys\n",
    "lib_path = '/home/jovyan/libs'\n",
    "sys.path.insert(0, lib_path)"
   ]
  },
  {
   "cell_type": "code",
   "execution_count": 2,
   "metadata": {
    "id": "9rvOFi6QJP0z",
    "tags": []
   },
   "outputs": [],
   "source": [
    "import gc, math, traceback, datetime\n",
    "from abc import ABC, abstractmethod\n",
    "\n",
    "import numpy as np\n",
    "import matplotlib.pyplot as plt\n",
    "from matplotlib import colormaps\n",
    "\n",
    "import torch\n",
    "import torch.nn.functional as F\n",
    "from torch.utils.data import DataLoader\n",
    "from torch.utils.tensorboard import SummaryWriter\n",
    "\n",
    "from datasets import load_dataset, load_from_disk\n",
    "\n",
    "import whisper\n",
    "from whisper.audio import N_FRAMES, N_SAMPLES\n",
    "from whisper.tokenizer import get_tokenizer\n",
    "\n",
    "from scipy.signal import butter, lfilter\n",
    "\n",
    "from tqdm import tqdm"
   ]
  },
  {
   "cell_type": "markdown",
   "metadata": {
    "id": "6EjUegebBNcX"
   },
   "source": [
    "# GPU RAM Tracking"
   ]
  },
  {
   "cell_type": "code",
   "execution_count": 3,
   "metadata": {
    "id": "jobgOLtEeLpx",
    "tags": []
   },
   "outputs": [],
   "source": [
    "def print_cuda_usage(msg: str = \"\"):\n",
    "    if torch.cuda.is_available():\n",
    "        print(f\"{msg}{torch.cuda.memory_allocated(0)/(1024 ** 3)} GB\")\n",
    "\n",
    "def get_cuda_usage():\n",
    "    return torch.cuda.memory_allocated(0)/(1024 ** 3)"
   ]
  },
  {
   "cell_type": "code",
   "execution_count": 4,
   "metadata": {
    "id": "1zjyFx78LvD-",
    "tags": []
   },
   "outputs": [],
   "source": [
    "if torch.cuda.is_available():\n",
    "    device = \"cuda\"\n",
    "else:\n",
    "    device = \"cpu\""
   ]
  },
  {
   "cell_type": "code",
   "execution_count": 5,
   "metadata": {
    "tags": []
   },
   "outputs": [
    {
     "data": {
      "text/plain": [
       "'cuda'"
      ]
     },
     "execution_count": 5,
     "metadata": {},
     "output_type": "execute_result"
    }
   ],
   "source": [
    "device"
   ]
  },
  {
   "cell_type": "markdown",
   "metadata": {
    "id": "yNEPbtquUG_g"
   },
   "source": [
    "# Load Model"
   ]
  },
  {
   "cell_type": "code",
   "execution_count": 6,
   "metadata": {
    "id": "aTrPYXKiygaU",
    "tags": []
   },
   "outputs": [],
   "source": [
    "try:\n",
    "    del model\n",
    "    print(\"Model deleted!\")\n",
    "except:\n",
    "    pass"
   ]
  },
  {
   "cell_type": "code",
   "execution_count": 7,
   "metadata": {
    "id": "zfgWJdLVJRbS",
    "tags": []
   },
   "outputs": [
    {
     "name": "stderr",
     "output_type": "stream",
     "text": [
      "/home/jovyan/libs/whisper/__init__.py:150: FutureWarning: You are using `torch.load` with `weights_only=False` (the current default value), which uses the default pickle module implicitly. It is possible to construct malicious pickle data which will execute arbitrary code during unpickling (See https://github.com/pytorch/pytorch/blob/main/SECURITY.md#untrusted-models for more details). In a future release, the default value for `weights_only` will be flipped to `True`. This limits the functions that could be executed during unpickling. Arbitrary objects will no longer be allowed to be loaded via this mode unless they are explicitly allowlisted by the user via `torch.serialization.add_safe_globals`. We recommend you start setting `weights_only=True` for any use case where you don't have full control of the loaded file. Please open an issue on GitHub for any issues related to this experimental feature.\n",
      "  checkpoint = torch.load(fp, map_location=device)\n"
     ]
    }
   ],
   "source": [
    "MODEL_NAME = \"tiny.en\"\n",
    "\n",
    "model = whisper.load_model(MODEL_NAME).to(device)\n",
    "model.eval();"
   ]
  },
  {
   "cell_type": "code",
   "execution_count": 8,
   "metadata": {
    "id": "tolbjGxG7qB8",
    "tags": []
   },
   "outputs": [],
   "source": [
    "tokenizer = get_tokenizer(model.is_multilingual, num_languages=model.num_languages, language=\"en\", task=\"transcribe\")\n",
    "sot_ids = torch.tensor(tokenizer.sot_sequence_including_notimestamps, requires_grad=False)"
   ]
  },
  {
   "cell_type": "markdown",
   "metadata": {
    "id": "M8P5xS3UBTfT"
   },
   "source": [
    "# Load Data"
   ]
  },
  {
   "cell_type": "code",
   "execution_count": 61,
   "metadata": {
    "id": "upnfsCvahcEJ",
    "tags": []
   },
   "outputs": [],
   "source": [
    "tedlium_path = \"../tedlium\"\n",
    "train_path, validation_path, test_path = f\"{tedlium_path}/train_idx.hf\", f\"{tedlium_path}/validation_idx.hf\", f\"{tedlium_path}/test.hf\""
   ]
  },
  {
   "cell_type": "code",
   "execution_count": 62,
   "metadata": {
    "tags": []
   },
   "outputs": [
    {
     "data": {
      "application/vnd.jupyter.widget-view+json": {
       "model_id": "ead8db1092004d56af6206d06807d1b7",
       "version_major": 2,
       "version_minor": 0
      },
      "text/plain": [
       "Loading dataset from disk:   0%|          | 0/109 [00:00<?, ?it/s]"
      ]
     },
     "metadata": {},
     "output_type": "display_data"
    }
   ],
   "source": [
    "TRAIN_SELECT = 500\n",
    "VALID_SELECT = 150\n",
    "TEST_SELECT = 250\n",
    "\n",
    "SEED = 1\n",
    "\n",
    "tedlium_train = load_from_disk(train_path).with_format(\"torch\").shuffle(seed=SEED).select(range(TRAIN_SELECT))\n",
    "tedlium_validation = load_from_disk(validation_path).with_format(\"torch\").shuffle(seed=SEED).select(range(VALID_SELECT))\n",
    "tedlium_test = load_from_disk(test_path).with_format(\"torch\").shuffle(seed=SEED).select(range(TEST_SELECT))"
   ]
  },
  {
   "cell_type": "code",
   "execution_count": 79,
   "metadata": {
    "id": "MoAt_Utrb4sT",
    "tags": []
   },
   "outputs": [],
   "source": [
    "def collate(ls):\n",
    "    pad_to = max(list(map(lambda x: x[\"audio\"].shape[0], ls)))\n",
    "    return torch.cat(list(map(lambda x: F.pad(x[\"audio\"], (0, pad_to - x[\"audio\"].shape[0])).unsqueeze(0).to(torch.bfloat16), ls)), dim=0)\n",
    "\n",
    "def collate_idx(ls):\n",
    "    return ls[0][\"audio\"].unsqueeze(0), ls[0][\"idx\"].item()\n",
    "\n",
    "TRAIN_BATCH_SIZE = 1 # highly recommended to be 1\n",
    "VALID_BATCH_SIZE = 1\n",
    "\n",
    "train_dataset = DataLoader(tedlium_train, batch_size=TRAIN_BATCH_SIZE, collate_fn=collate_idx)\n",
    "validation_dataset = DataLoader(tedlium_validation, batch_size=VALID_BATCH_SIZE, collate_fn=collate_idx)\n",
    "test_dataset = DataLoader(tedlium_test)"
   ]
  },
  {
   "cell_type": "markdown",
   "metadata": {
    "id": "mY8-HSVPBYnZ"
   },
   "source": [
    "# Training Loop Helpers"
   ]
  },
  {
   "cell_type": "code",
   "execution_count": 12,
   "metadata": {
    "id": "BzcVuVrg68uE",
    "tags": []
   },
   "outputs": [],
   "source": [
    "\"\"\"\n",
    "Helpers involving model interaction and loss\n",
    "\n",
    "General flow is Audio Tensor --> Mel Tensor --> model.forward --> Logits --> Get log probabilities\n",
    "\"\"\"\n",
    "\n",
    "def audio_to_mel(audio: torch.Tensor) -> torch.Tensor:\n",
    "    return whisper.pad_or_trim(whisper.log_mel_spectrogram(audio, padding=N_SAMPLES),\n",
    "                              N_FRAMES)\n",
    "\n",
    "def audio_to_mel_batch(audio_batch: torch.Tensor) -> torch.Tensor:\n",
    "    if len(audio_batch.shape) == 1:\n",
    "        audio_batch = audio_batch.unsqueeze(0)\n",
    "    return torch.stack([audio_to_mel(audio) for audio in audio_batch])\n",
    "\n",
    "def mel_to_logits_batch(model: whisper.model.Whisper, mel_batch: torch.Tensor, sot_ids: torch.Tensor) -> torch.Tensor:\n",
    "    sot_ids = sot_ids.unsqueeze(0).expand(mel_batch.size(0), -1).to(device)\n",
    "    return model.forward(mel_batch, sot_ids)\n",
    "\n",
    "def get_loss_batch(logits: torch.Tensor, token_id: torch.Tensor) -> torch.Tensor:\n",
    "    sf = torch.nn.Softmax(dim=1)\n",
    "    log_probs = torch.log(sf(logits))\n",
    "    tgt_probs = log_probs[:,token_id].squeeze()\n",
    "    return -1 * torch.mean(tgt_probs)"
   ]
  },
  {
   "cell_type": "code",
   "execution_count": 127,
   "metadata": {
    "id": "lf48eLc8U5Aj",
    "tags": []
   },
   "outputs": [],
   "source": [
    "\"\"\"\n",
    "Utils to view mel\n",
    "\"\"\"\n",
    "\n",
    "def view_mel(audio: torch.Tensor) -> None:\n",
    "    mel = whisper.log_mel_spectrogram(audio)\n",
    "    print(mel.shape)\n",
    "    plt.figure(figsize=(20, 4))\n",
    "    plt.axis(\"off\")\n",
    "    plt.imshow(mel)\n",
    "    plt.show()\n",
    "    return\n",
    "\n",
    "def mel_image(audio: torch.Tensor, pseudocolor_map: str = \"Blues\") -> torch.Tensor:\n",
    "    image = whisper.log_mel_spectrogram(audio.squeeze())\n",
    "    cm = colormaps[pseudocolor_map]\n",
    "    return torch.tensor(cm(image))"
   ]
  },
  {
   "cell_type": "code",
   "execution_count": 14,
   "metadata": {
    "id": "OHBIv30toPm3",
    "tags": []
   },
   "outputs": [],
   "source": [
    "\"\"\"\n",
    "Other utils\n",
    "\"\"\"\n",
    "\n",
    "# unused\n",
    "# def validate(model: whisper.model.Whisper, snippet: torch.Tensor, validation: torch.Tensor, \n",
    "#              prepare_method, tokenizer: whisper.tokenizer.Tokenizer) -> torch.Tensor:\n",
    "#     with torch.no_grad():\n",
    "#         validation = validation.to(device)\n",
    "#         attacked_data = prepare_method(snippet, validation)\n",
    "#         mel = audio_to_mel_batch(attacked_data)\n",
    "#         logits = mel_to_logits_batch(model, mel, sot_ids)[:,-1,:].squeeze(dim=1)\n",
    "#         loss = get_loss_batch(logits, tokenizer.eot)\n",
    "#         return loss\n",
    "\n",
    "# check if any values in the snippet violate the clamp constraint\n",
    "def violates_clamp(snippet: torch.Tensor, clamp_epsilon: float) -> bool:\n",
    "    if clamp_epsilon:\n",
    "        with torch.no_grad():\n",
    "            return torch.any(torch.logical_or(snippet > clamp_epsilon, snippet < -clamp_epsilon))"
   ]
  },
  {
   "cell_type": "code",
   "execution_count": 15,
   "metadata": {
    "tags": []
   },
   "outputs": [],
   "source": [
    "\"\"\"\n",
    "Audio Modification Helpers\n",
    "- Butterworth High Pass and Low Pass filters\n",
    "- Compressions (Mu Law and Inverse Mu Law for reversibility)\n",
    "\"\"\"\n",
    "\n",
    "def lowpass_filter(audio_tensor: torch.Tensor, cutoff: int, sampling_rate: int = 16_000, order: int = 5) -> torch.Tensor:\n",
    "    b, a = butter(order, cutoff, btype=\"lowpass\", fs=sampling_rate, analog=False)\n",
    "    y = lfilter(b, a, audio_tensor)\n",
    "    return torch.from_numpy(y).to(torch.float32)\n",
    "\n",
    "def highpass_filter(audio_tensor: torch.Tensor, cutoff: int, sampling_rate: int = 16_000, order: int = 5) -> torch.Tensor:\n",
    "    b, a = butter(order, cutoff, btype=\"highpass\", fs=sampling_rate, analog=False)\n",
    "    y = lfilter(b, a, audio_tensor)\n",
    "    return torch.from_numpy(y).to(torch.float32)\n",
    "\n",
    "################################################\n",
    "\n",
    "def mu_law(audio_tensor: torch.Tensor, mu: int = 255) -> torch.Tensor:\n",
    "    sign = torch.where(audio_tensor >= 0, 1, -1)\n",
    "    return sign * torch.log(1 + mu * torch.abs(audio_tensor)) / math.log(1 + mu)\n",
    "\n",
    "def inv_mu_law(audio_tensor: torch.Tensor, mu: int = 255) -> torch.Tensor:\n",
    "    sign = torch.where(audio_tensor >= 0, 1, -1)\n",
    "    return sign * (torch.tensor([mu + 1]).pow(torch.abs(audio_tensor)) - 1) / mu\n",
    "\n",
    "def mu_comp_decomp(audio_tensor: torch.Tensor, mu: int = 255) -> torch.Tensor:\n",
    "    return inv_mu_law(mu_law(audio_tensor, mu), mu)"
   ]
  },
  {
   "cell_type": "markdown",
   "metadata": {
    "id": "HK7qsqAVrTO3"
   },
   "source": [
    "# Attack Methods"
   ]
  },
  {
   "cell_type": "markdown",
   "metadata": {},
   "source": [
    "## Normal Attacks"
   ]
  },
  {
   "cell_type": "code",
   "execution_count": 16,
   "metadata": {
    "id": "j7njJfPNpVSG",
    "tags": []
   },
   "outputs": [],
   "source": [
    "\"\"\"\n",
    "every attack preparation method must:\n",
    "1. inherit from PrepareMethod (an abstract class)\n",
    "2. Override __call__\n",
    "\n",
    "* each example can either be a batch of audio tensors (M, N) or a single audio tensor (1, N)\n",
    "* the snippet must be of shape (1, N)\n",
    "\"\"\"\n",
    "class PrepareMethod(ABC):\n",
    "    def __init__(self, snippet_size: tuple, name: str):\n",
    "        assert len(snippet_size) == 2, f\"Snippet must have 2 dimensions, currently has {len(snippet_size)} dims\"\n",
    "        assert snippet_size[0] == 1, f\"Snippet must be of shape (1, N), currently of shape {snippet_size}\"\n",
    "        self.snippet_size = snippet_size\n",
    "        self.name = name\n",
    "    \n",
    "    def check_dims(self, snippet, example, desired_dims=2):\n",
    "        offenders = \"\"\n",
    "        if len(snippet.shape) != desired_dims:\n",
    "            offenders += f\"Need snippet (dims {len(snippet.shape)}, shape {snippet.shape}) to be of dims {desired_dims}\\n\"\n",
    "        if len(example.shape) != desired_dims:\n",
    "            offenders += f\"Need example (dims {len(example.shape)}, shape {example.shape}) to be of dims {desired_dims}\\n\"\n",
    "        if offenders:\n",
    "            raise ValueError(offenders.strip())\n",
    "    \n",
    "    @abstractmethod\n",
    "    def __call__(self, snippet, example):\n",
    "        pass\n",
    "    \n",
    "#################################\n",
    "\n",
    "class PrepareFront(PrepareMethod):\n",
    "    def __init__(self):\n",
    "        super().__init__((1, 10240), \"prepare_front\")\n",
    "    \n",
    "    def __call__(self, snippet, example):\n",
    "        self.check_dims(snippet, example)\n",
    "        snippet = snippet.repeat(example.size(0), 1)\n",
    "        return torch.cat([snippet, example], dim=1)\n",
    "\n",
    "#################################\n",
    "\n",
    "class PrepareOverlay(PrepareMethod):\n",
    "    def __init__(self):\n",
    "        super().__init__((1, 480_000), \"prepare_overlay\")\n",
    "    \n",
    "    def __call__(self, snippet, example):\n",
    "        self.check_dims(snippet, example)\n",
    "        example = F.pad(example, (0, snippet.size(1) - example.size(1)), \"constant\", 0)\n",
    "        snippet = snippet.repeat(example.size(0), 1)\n",
    "        return snippet + example\n",
    "    \n",
    "#################################\n",
    "\n",
    "class PrepareOverlayFront(PrepareMethod):\n",
    "    def __init__(self, snippet_size):\n",
    "        super().__init__(snippet_size, \"prepare_overlay_front\")\n",
    "    \n",
    "    def __call__(self, snippet, example):\n",
    "        self.check_dims(snippet, example)\n",
    "        snippet = F.pad(snippet, (0, example.size(1) - snippet.size(1)), \"constant\", 0)\n",
    "        snippet = snippet.repeat(example.size(0), 1)\n",
    "        return snippet + example"
   ]
  },
  {
   "cell_type": "markdown",
   "metadata": {},
   "source": [
    "## Mu-Law Attacks"
   ]
  },
  {
   "cell_type": "code",
   "execution_count": 17,
   "metadata": {},
   "outputs": [],
   "source": [
    "#################################\n",
    "                         \n",
    "class PrepareFrontMu(PrepareMethod):\n",
    "    def __init__(self):\n",
    "        super().__init__((1, 480_000), \"prepare_overlay_mu\")\n",
    "    \n",
    "    def __call__(self, snippet, example):\n",
    "        self.check_dims(snippet, example)\n",
    "        example = F.pad(example, (0, snippet.size(1) - example.size(1)), \"constant\", 0)\n",
    "        snippet = snippet.repeat(example.size(0), 1)\n",
    "        return mu_law(torch.cat([snippet, example], dim=1))\n",
    "\n",
    "#################################\n",
    "                         \n",
    "class PrepareOverlayMu(PrepareMethod):\n",
    "    def __init__(self):\n",
    "        super().__init__((1, 480_000), \"prepare_overlay_mu\")\n",
    "    \n",
    "    def __call__(self, snippet, example):\n",
    "        self.check_dims(snippet, example)\n",
    "        example = F.pad(example, (0, snippet.size(1) - example.size(1)), \"constant\", 0)\n",
    "        snippet = snippet.repeat(example.size(0), 1)\n",
    "        return mu_law(snippet + example)"
   ]
  },
  {
   "cell_type": "markdown",
   "metadata": {},
   "source": [
    "## Pass-Filter Attacks"
   ]
  },
  {
   "cell_type": "code",
   "execution_count": 18,
   "metadata": {},
   "outputs": [],
   "source": [
    "# TBI"
   ]
  },
  {
   "cell_type": "markdown",
   "metadata": {
    "id": "hEl7cH9fBbZb"
   },
   "source": [
    "# Training Loop"
   ]
  },
  {
   "cell_type": "code",
   "execution_count": 86,
   "metadata": {
    "id": "lejmrAxFOy5E",
    "tags": []
   },
   "outputs": [],
   "source": [
    "def training_autograd_more(model: whisper.model.Whisper,\n",
    "                      train_data: torch.utils.data.DataLoader, valid_data: torch.utils.data.DataLoader,\n",
    "                      prepare_method: PrepareMethod,\n",
    "                      writer: SummaryWriter = None,\n",
    "                      lr: float = 1e-3,\n",
    "                      iter_limit: int = None, mins_limit: int = None, patience: int = None, clamp_epsilon: float = None) -> torch.Tensor:\n",
    "    \n",
    "    # initialise stuff\n",
    "    torch.autograd.set_detect_anomaly(False)\n",
    "    loss = torch.tensor(np.inf, requires_grad=True)\n",
    "    num_training_batches = len(train_data)\n",
    "    num_valid_batches = len(valid_data)\n",
    "\n",
    "    time_limit = mins_limit * 60 if mins_limit else None\n",
    "\n",
    "    snippet = torch.rand(prepare_method.snippet_size, requires_grad=True, device=device) # adversarial snippet\n",
    "    \n",
    "    snippets = [snippet]\n",
    "    buffer = None\n",
    "    train_success = dict()\n",
    "    valid_success = dict()\n",
    "    \n",
    "    if clamp_epsilon:\n",
    "        with torch.no_grad():\n",
    "            snippet = snippet * clamp_epsilon\n",
    "    snippet.requires_grad = True\n",
    "\n",
    "    optim = torch.optim.AdamW([snippet], lr=lr, weight_decay=0)\n",
    "    scheduler = torch.optim.lr_scheduler.StepLR(optim, step_size=5, gamma=0.5)\n",
    "\n",
    "    attack_stack, attacked_data, mel, logits, pbar, avg_valid_loss = None, None, None, None, None, None\n",
    "    lowest_valid_loss = np.inf\n",
    "    curr_patience = patience\n",
    "    best_snippet = snippet.detach().clone()\n",
    "\n",
    "    # display attack method and snippet for sanity check\n",
    "    print(f\"Prepare method: {prepare_method.name}\")\n",
    "    print(f\"Snippet initialised to [{torch.min(snippet)}, {torch.max(snippet)}] of size {prepare_method.snippet_size}\")\n",
    "    print(f\"Clamp: {clamp_epsilon}\\nTime Limit (Mins): {mins_limit}\\nEpochs Limit: {iter_limit}\")\n",
    "\n",
    "    # log attack snippet\n",
    "    if writer:\n",
    "        writer.add_image(\"Attack Snippet\", mel_image(snippet.detach().to(\"cpu\")), 0, dataformats=\"HWC\")\n",
    "        writer.flush()\n",
    "\n",
    "    # progress bar\n",
    "    pbar = tqdm(range(1), desc=\"Training\", ncols=0)\n",
    "    itera = 0\n",
    "\n",
    "    # track gpu usage\n",
    "    base_cuda_usage = get_cuda_usage()\n",
    "\n",
    "    try:\n",
    "        while True:\n",
    "            buffer = torch.zeros((len(train_data), 1))\n",
    "            itera += 1\n",
    "            if iter_limit:\n",
    "                iter_limit -= 1\n",
    "                if iter_limit <= 0:\n",
    "                    pbar.set_postfix_str(\"Epoch limit reached! Terminating...\")\n",
    "                    break\n",
    "            if time_limit and pbar.format_dict[\"elapsed\"] >= time_limit:\n",
    "                pbar.set_postfix_str(\"Time limit reached! Terminating...\")\n",
    "                break\n",
    "            if patience and avg_valid_loss:\n",
    "                if curr_patience <= 0:\n",
    "                    pbar.set_postfix_str(\"Patience expired! Terminating...\")\n",
    "                    break\n",
    "            if clamp_epsilon and violates_clamp(snippet, clamp_epsilon):\n",
    "                raise ValueError(\"Snippet values violate clamp constraint!!\")\n",
    "\n",
    "            avg_training_loss = 0\n",
    "            avg_valid_loss = 0\n",
    "            total_cuda_usage_iter = 0\n",
    "\n",
    "            for batch_no, (batch, idx) in enumerate(train_data):\n",
    "                pbar.set_postfix_str(f\"Iter {itera}, Training Batch {batch_no + 1}/{num_training_batches}\")\n",
    "\n",
    "                batch = batch.to(device)\n",
    "                attacked_data = prepare_method(snippet, batch)\n",
    "\n",
    "                # forward prop\n",
    "                mel = audio_to_mel_batch(attacked_data)\n",
    "                logits = mel_to_logits_batch(model, mel, sot_ids)[:,-1,:].squeeze(dim=1)\n",
    "                loss = get_loss_batch(logits, tokenizer.eot)\n",
    "                \n",
    "                # get training metrics\n",
    "                total_cuda_usage_iter += get_cuda_usage()\n",
    "                avg_training_loss += loss.detach()\n",
    "\n",
    "                # backprop\n",
    "                optim.zero_grad()\n",
    "                loss.backward()\n",
    "                optim.step()\n",
    "                \n",
    "                # clamp snippet\n",
    "                if clamp_epsilon:\n",
    "                    with torch.no_grad():\n",
    "                        snippet.clamp_(min=-clamp_epsilon, max=clamp_epsilon)\n",
    "                        \n",
    "                snippet.requires_grad = True\n",
    "                batch.to(\"cpu\")\n",
    "\n",
    "                with torch.no_grad():\n",
    "                    seq_length = len(model.transcribe(attacked_data.squeeze(), language=\"en\", condition_on_previous_text=False, fp16=True)[\"text\"])\n",
    "                    train_success[idx] = train_success.get(idx, []) + [seq_length]\n",
    "            \n",
    "            snippets.append(snippet.detach().clone())\n",
    "            avg_training_loss /= len(train_data)\n",
    "\n",
    "            # validation\n",
    "            with torch.no_grad():\n",
    "                for batch_no, (v, idx) in enumerate(valid_data):\n",
    "                    pbar.set_postfix_str(f\"Iter {itera}, Validation Batch {batch_no + 1}/{num_valid_batches}\")\n",
    "                    v = v.to(device)\n",
    "                    attacked_data_valid = prepare_method(snippet, v)\n",
    "                    mel_valid = audio_to_mel_batch(attacked_data_valid)\n",
    "                    logits_valid = mel_to_logits_batch(model, mel_valid, sot_ids)[:,-1,:].squeeze(dim=1)\n",
    "                    avg_valid_loss += get_loss_batch(logits_valid, tokenizer.eot)\n",
    "                    \n",
    "                    seq_length = len(model.transcribe(attacked_data_valid.squeeze(), language=\"en\", condition_on_previous_text=False, fp16=True)[\"text\"])\n",
    "                    valid_success[idx] = valid_success.get(idx, []) + [seq_length] \n",
    "            avg_valid_loss /= num_valid_batches\n",
    "            \n",
    "            # track lowest valid loss and save the snippet with lowest valid loss\n",
    "            if avg_valid_loss >= lowest_valid_loss:\n",
    "                curr_patience -= 1\n",
    "            else:\n",
    "                curr_patience = patience\n",
    "                lowest_valid_loss = avg_valid_loss\n",
    "                best_snippet = snippet.detach().clone()\n",
    "\n",
    "            pbar.write(f\"Trng Avg Loss: {avg_training_loss} | Valid Avg Loss: {avg_valid_loss} | Patience: {curr_patience} | LR: {scheduler.get_last_lr()} | Epoch Limit: {iter_limit}\")\n",
    "\n",
    "            if writer:\n",
    "              # log training and validation losses\n",
    "                writer.add_scalar(\"Training average loss\", avg_training_loss, itera)\n",
    "                writer.add_scalar(\"Validation average loss\", avg_valid_loss, itera)\n",
    "\n",
    "                # log GPU RAM usage\n",
    "                if torch.cuda.is_available():\n",
    "                    writer.add_scalar(\"GPU RAM Usage\", total_cuda_usage_iter / num_training_batches - base_cuda_usage, itera)\n",
    "\n",
    "              # log attack snippet and flush\n",
    "                writer.add_image(\"Attack Snippet\", mel_image(snippet.detach().to(\"cpu\")), itera, dataformats=\"HWC\")\n",
    "                writer.flush()\n",
    "            \n",
    "            # LR decay\n",
    "            scheduler.step()\n",
    "            \n",
    "            # refresh pbar to (hopefully) force update of progress bar\n",
    "            pbar.refresh()\n",
    "\n",
    "    except Exception as e:\n",
    "        # need to explicitly close pbar here so traceback can print error\n",
    "        if pbar is not None:\n",
    "            pbar.clear()\n",
    "            pbar.close()\n",
    "            traceback.print_exc()\n",
    "\n",
    "    finally:\n",
    "        # close pbar to free stdout/stdsys (cant rmb which one)\n",
    "        if pbar is not None:\n",
    "            pbar.clear()\n",
    "            pbar.close()\n",
    "\n",
    "        # clear tensors from GPU memory to\n",
    "        # prevent memory leak\n",
    "        if attacked_data is not None:\n",
    "            attacked_data.to(\"cpu\")\n",
    "            del attacked_data\n",
    "            print(\"Cleared attacked data\")\n",
    "\n",
    "        if attack_stack is not None:\n",
    "            attack_stack.to(\"cpu\")\n",
    "            del attack_stack\n",
    "            print(\"Cleared attack stack\")\n",
    "\n",
    "        if mel is not None:\n",
    "            mel.to(\"cpu\")\n",
    "            del mel\n",
    "            print(\"Cleared mel\")\n",
    "\n",
    "        if logits is not None:\n",
    "            logits.to(\"cpu\")\n",
    "            del logits\n",
    "            print(\"Cleared logits\")\n",
    "        \n",
    "        if buffer is not None:\n",
    "            buffer.to(\"cpu\")\n",
    "            del buffer\n",
    "            print(\"Cleared buffer\")\n",
    "\n",
    "        loss.to(\"cpu\")\n",
    "        del loss\n",
    "        print(\"Cleared loss\")\n",
    "\n",
    "        # empty GPU cache and garbage collect\n",
    "        torch.cuda.empty_cache()\n",
    "        gc.collect()\n",
    "        print_cuda_usage()\n",
    "        \n",
    "        return best_snippet.detach().to(\"cpu\"), snippets, train_success, valid_success"
   ]
  },
  {
   "cell_type": "code",
   "execution_count": 87,
   "metadata": {
    "colab": {
     "base_uri": "https://localhost:8080/"
    },
    "id": "JML5ybTKPMEu",
    "outputId": "f3650f0c-d671-4acf-ae9f-40bc0e620d18",
    "tags": []
   },
   "outputs": [
    {
     "name": "stdout",
     "output_type": "stream",
     "text": [
      "0.29820775985717773 GB\n"
     ]
    }
   ],
   "source": [
    "gc.collect()\n",
    "torch.cuda.empty_cache()\n",
    "print_cuda_usage()"
   ]
  },
  {
   "cell_type": "code",
   "execution_count": 88,
   "metadata": {
    "id": "jTU811FhsXQn",
    "tags": []
   },
   "outputs": [],
   "source": [
    "LR = 1e-3\n",
    "PATIENCE = 5\n",
    "MIN_LIMIT = 45\n",
    "ITER_LIMIT = 30\n",
    "CLAMP_EP = 0.005\n",
    "PREPARE_METHOD = PrepareFront()\n",
    "\n",
    "writer = None"
   ]
  },
  {
   "cell_type": "code",
   "execution_count": 81,
   "metadata": {
    "tags": []
   },
   "outputs": [],
   "source": [
    "# tensorboard writer\n",
    "timestamp = datetime.datetime.now().strftime(f'%Y%m%d-%H%M%S_clamp_{CLAMP_EP}_{PREPARE_METHOD.name}')\n",
    "writer = SummaryWriter(log_dir=f\"../runs/clamp_tests/{timestamp}\", max_queue=5)"
   ]
  },
  {
   "cell_type": "code",
   "execution_count": 89,
   "metadata": {
    "colab": {
     "base_uri": "https://localhost:8080/"
    },
    "id": "IfBzfVKNgHYp",
    "outputId": "80ab88a8-906c-4d44-a477-98b8717e3fc2",
    "tags": []
   },
   "outputs": [
    {
     "name": "stdout",
     "output_type": "stream",
     "text": [
      "Prepare method: prepare_front\n",
      "Snippet initialised to [2.864544512704015e-07, 0.004999854601919651] of size (1, 10240)\n",
      "Clamp: 0.005\n",
      "Time Limit (Mins): 45\n",
      "Epochs Limit: 30\n"
     ]
    },
    {
     "name": "stderr",
     "output_type": "stream",
     "text": [
      "Training:   0% 0/1 [02:47<?, ?it/s, Iter 2, Training Batch 2/500]    "
     ]
    },
    {
     "name": "stdout",
     "output_type": "stream",
     "text": [
      "Trng Avg Loss: 2.230294942855835 | Valid Avg Loss: 0.8294642567634583 | Patience: 5 | LR: [0.001] | Epoch Limit: 29\n"
     ]
    },
    {
     "name": "stderr",
     "output_type": "stream",
     "text": [
      "Training:   0% 0/1 [05:03<?, ?it/s, Iter 3, Training Batch 1/500]    "
     ]
    },
    {
     "name": "stdout",
     "output_type": "stream",
     "text": [
      "Trng Avg Loss: 0.6505632400512695 | Valid Avg Loss: 5.791678428649902 | Patience: 4 | LR: [0.001] | Epoch Limit: 28\n"
     ]
    },
    {
     "name": "stderr",
     "output_type": "stream",
     "text": [
      "Training:   0% 0/1 [07:16<?, ?it/s, Iter 4, Training Batch 3/500]    "
     ]
    },
    {
     "name": "stdout",
     "output_type": "stream",
     "text": [
      "Trng Avg Loss: 1.2431236505508423 | Valid Avg Loss: 0.4689650535583496 | Patience: 5 | LR: [0.001] | Epoch Limit: 27\n"
     ]
    },
    {
     "name": "stderr",
     "output_type": "stream",
     "text": [
      "Training:   0% 0/1 [09:13<?, ?it/s, Iter 5, Training Batch 2/500]    "
     ]
    },
    {
     "name": "stdout",
     "output_type": "stream",
     "text": [
      "Trng Avg Loss: 0.6237580180168152 | Valid Avg Loss: 0.38854482769966125 | Patience: 5 | LR: [0.001] | Epoch Limit: 26\n"
     ]
    },
    {
     "name": "stderr",
     "output_type": "stream",
     "text": [
      "Training:   0% 0/1 [11:36<?, ?it/s, Iter 6, Training Batch 2/500]    "
     ]
    },
    {
     "name": "stdout",
     "output_type": "stream",
     "text": [
      "Trng Avg Loss: 0.7643721699714661 | Valid Avg Loss: 0.989629328250885 | Patience: 4 | LR: [0.001] | Epoch Limit: 25\n"
     ]
    },
    {
     "name": "stderr",
     "output_type": "stream",
     "text": [
      "Training:   0% 0/1 [12:54<?, ?it/s, Iter 7, Training Batch 3/500]    "
     ]
    },
    {
     "name": "stdout",
     "output_type": "stream",
     "text": [
      "Trng Avg Loss: 0.08130437135696411 | Valid Avg Loss: 0.07129406929016113 | Patience: 5 | LR: [0.0005] | Epoch Limit: 24\n"
     ]
    },
    {
     "name": "stderr",
     "output_type": "stream",
     "text": [
      "Training:   0% 0/1 [14:07<?, ?it/s, Iter 8, Training Batch 3/500]    "
     ]
    },
    {
     "name": "stdout",
     "output_type": "stream",
     "text": [
      "Trng Avg Loss: 0.03591983765363693 | Valid Avg Loss: 0.020416105166077614 | Patience: 5 | LR: [0.0005] | Epoch Limit: 23\n"
     ]
    },
    {
     "name": "stderr",
     "output_type": "stream",
     "text": [
      "Training:   0% 0/1 [15:20<?, ?it/s, Iter 9, Training Batch 3/500]    "
     ]
    },
    {
     "name": "stdout",
     "output_type": "stream",
     "text": [
      "Trng Avg Loss: 0.00945962406694889 | Valid Avg Loss: 0.028863122686743736 | Patience: 4 | LR: [0.0005] | Epoch Limit: 22\n"
     ]
    },
    {
     "name": "stderr",
     "output_type": "stream",
     "text": [
      "Training:   0% 0/1 [17:08<?, ?it/s, Iter 10, Training Batch 3/500]   "
     ]
    },
    {
     "name": "stdout",
     "output_type": "stream",
     "text": [
      "Trng Avg Loss: 0.6282690763473511 | Valid Avg Loss: 0.17250482738018036 | Patience: 3 | LR: [0.0005] | Epoch Limit: 21\n"
     ]
    },
    {
     "name": "stderr",
     "output_type": "stream",
     "text": [
      "Training:   0% 0/1 [18:43<?, ?it/s, Iter 11, Training Batch 2/500]    "
     ]
    },
    {
     "name": "stdout",
     "output_type": "stream",
     "text": [
      "Trng Avg Loss: 0.2832367420196533 | Valid Avg Loss: 0.1987932324409485 | Patience: 2 | LR: [0.0005] | Epoch Limit: 20\n"
     ]
    },
    {
     "name": "stderr",
     "output_type": "stream",
     "text": [
      "Training:   0% 0/1 [19:59<?, ?it/s, Iter 12, Training Batch 3/500]    "
     ]
    },
    {
     "name": "stdout",
     "output_type": "stream",
     "text": [
      "Trng Avg Loss: 0.03766603022813797 | Valid Avg Loss: 0.040420886129140854 | Patience: 1 | LR: [0.00025] | Epoch Limit: 19\n"
     ]
    },
    {
     "name": "stderr",
     "output_type": "stream",
     "text": [
      "Training:   0% 0/1 [21:11<?, ?it/s, Patience expired! Terminating...] \n"
     ]
    },
    {
     "name": "stdout",
     "output_type": "stream",
     "text": [
      "Trng Avg Loss: 0.01600782200694084 | Valid Avg Loss: 0.0315970778465271 | Patience: 0 | LR: [0.00025] | Epoch Limit: 18\n",
      "Cleared attacked data\n",
      "Cleared mel\n",
      "Cleared logits\n",
      "Cleared buffer\n",
      "Cleared loss\n",
      "0.3042306900024414 GB\n"
     ]
    }
   ],
   "source": [
    "best_snippet, snippets, train_success, valid_success = training_autograd_more(model, train_dataset, validation_dataset, \n",
    "                                                            PREPARE_METHOD,\n",
    "                                                            writer, lr=LR, \n",
    "                                                            iter_limit=ITER_LIMIT, mins_limit=MIN_LIMIT, patience=PATIENCE, clamp_epsilon=CLAMP_EP)"
   ]
  },
  {
   "cell_type": "code",
   "execution_count": 128,
   "metadata": {
    "id": "q59EbCsIfr-9",
    "tags": []
   },
   "outputs": [
    {
     "name": "stdout",
     "output_type": "stream",
     "text": [
      "torch.Size([80, 64])\n"
     ]
    },
    {
     "data": {
      "image/png": "[encoded data removed]",
      "text/plain": [
       "<Figure size 2000x400 with 1 Axes>"
      ]
     },
     "metadata": {},
     "output_type": "display_data"
    }
   ],
   "source": [
    "view_mel(best_snippet.detach().to(\"cpu\").squeeze())"
   ]
  },
  {
   "cell_type": "markdown",
   "metadata": {
    "id": "8-kaeGzDCEUV"
   },
   "source": [
    "# Evaluation"
   ]
  },
  {
   "cell_type": "code",
   "execution_count": 91,
   "metadata": {
    "id": "uYCZCjkitb0J",
    "tags": []
   },
   "outputs": [
    {
     "name": "stdout",
     "output_type": "stream",
     "text": [
      "Clamp: 0.005\n",
      "Prepare Method: prepare_front\n"
     ]
    },
    {
     "name": "stderr",
     "output_type": "stream",
     "text": [
      "Inference: 100%|██████████| 250/250 [00:39<00:00,  6.31it/s, Valid Examples: 194 | Empty Sequences: 194 | Total SL = 0]\n"
     ]
    },
    {
     "name": "stdout",
     "output_type": "stream",
     "text": [
      "\n",
      "\n",
      "Total valid examples: 194\n",
      "Success rate (Empty): 1.0\n",
      "Success rate (ASL): 0.0 (attacked) out of 122.16494845360825 (original)\n"
     ]
    }
   ],
   "source": [
    "# EVALUATION\n",
    "# for now, metric is whether the transcription is empty or consists only of blank tokens\n",
    "\n",
    "def evaluate(snippet, prepare_method, model, test_dataset):\n",
    "    print(f\"Clamp: {CLAMP_EP}\\nPrepare Method: {prepare_method.name}\")\n",
    "    empty_counter = 0\n",
    "    char_counter = 0\n",
    "    total_examples = 0\n",
    "    original_chars = 0\n",
    "\n",
    "    snippet = snippet.to(device)\n",
    "    pbar = tqdm(range(len(test_dataset)), desc=\"Inference\")\n",
    "    test_dataset_iter = iter(test_dataset)\n",
    "    model.eval()\n",
    "\n",
    "    for i in pbar:\n",
    "        # evaluate if there are any words at all\n",
    "        example, answer = next(test_dataset_iter).values()\n",
    "        if isinstance(answer, tuple) or isinstance(answer, list):\n",
    "            answer = answer[0]\n",
    "        if answer != \"ignore_time_segment_in_scoring\":\n",
    "            attacked_example = prepare_method(snippet, example.to(device))\n",
    "            transcription = model.transcribe(attacked_example.squeeze(), language=\"en\", condition_on_previous_text=False, fp16=True)[\"text\"]\n",
    "\n",
    "            if not transcription.strip():\n",
    "                empty_counter += 1\n",
    "            char_counter += len(transcription.strip())\n",
    "            original_chars += len(answer)\n",
    "            total_examples += 1\n",
    "            pbar.set_postfix_str(f\"Valid Examples: {total_examples} | Empty Sequences: {empty_counter} | Total SL = {char_counter}\")\n",
    "\n",
    "        example.to(\"cpu\")\n",
    "\n",
    "    pbar.close()\n",
    "    print(\"\\n\")\n",
    "    print(f\"Total valid examples: {total_examples}\")\n",
    "    print(f\"Success rate (Empty): {empty_counter/total_examples}\")\n",
    "    print(f\"Success rate (ASL): {char_counter/total_examples} (attacked) out of {original_chars/total_examples} (original)\")\n",
    "\n",
    "evaluate(best_snippet, PREPARE_METHOD, model, test_dataset) # commented to prevent the runtime from autorunning and crashing the thing"
   ]
  },
  {
   "cell_type": "code",
   "execution_count": 120,
   "metadata": {
    "tags": []
   },
   "outputs": [
    {
     "data": {
      "text/plain": [
       "torch.Size([16, 1, 10240])"
      ]
     },
     "execution_count": 120,
     "metadata": {},
     "output_type": "execute_result"
    }
   ],
   "source": [
    "snippets = torch.stack(list(map(lambda x: x.cpu(), snippets)) + [best_snippet.cpu()])\n",
    "snippets.shape"
   ]
  },
  {
   "cell_type": "code",
   "execution_count": 121,
   "metadata": {
    "tags": []
   },
   "outputs": [],
   "source": [
    "torch.save(snippets.squeeze(), \"snippets.pt\")"
   ]
  },
  {
   "cell_type": "code",
   "execution_count": 122,
   "metadata": {
    "tags": []
   },
   "outputs": [],
   "source": [
    "torch.save(torch.stack(list(map(torch.tensor, train_success.values()))), \"train_success.pt\")\n",
    "torch.save(torch.tensor(list(train_success.keys())), \"train_ids.pt\")"
   ]
  },
  {
   "cell_type": "code",
   "execution_count": 123,
   "metadata": {
    "tags": []
   },
   "outputs": [],
   "source": [
    "torch.save(torch.stack(list(map(torch.tensor, valid_success.values()))), \"valid_success.pt\")\n",
    "torch.save(torch.tensor(list(valid_success.keys())), \"valid_ids.pt\")"
   ]
  },
  {
   "cell_type": "markdown",
   "metadata": {
    "id": "9hVIWKQO1V22"
   },
   "source": [
    "# Save and Hear Snippet"
   ]
  },
  {
   "cell_type": "code",
   "execution_count": null,
   "metadata": {
    "tags": []
   },
   "outputs": [],
   "source": [
    "def normalise(random_snippet, ep):\n",
    "    # we assume torch.rand inits to [0, 1)\n",
    "    res = random_snippet * ep * 2 - ep\n",
    "    print(f\"Normalised, Min {torch.min(res)}, Max {torch.max(res)}\")\n",
    "    return res"
   ]
  },
  {
   "cell_type": "code",
   "execution_count": null,
   "metadata": {
    "id": "pD8MUV-y1Rsj"
   },
   "outputs": [],
   "source": [
    "# Save snippet to wav file\n",
    "save_audio(snippet, f\"./snippets/clamp_{CLAMP_EP}_{PREPARE_METHOD.name}_snippet_only.wav\")"
   ]
  },
  {
   "cell_type": "code",
   "execution_count": null,
   "metadata": {
    "id": "xTI3OCNw5681"
   },
   "outputs": [],
   "source": [
    "save_audio(PREPARE_METHOD(snippet.to(\"cpu\"), tedlium_test[2][\"audio\"].unsqueeze(0)), f\"./snippets/clamp_{CLAMP_EP}_{PREPARE_METHOD.name}_combined.wav\")"
   ]
  },
  {
   "cell_type": "code",
   "execution_count": null,
   "metadata": {},
   "outputs": [],
   "source": []
  }
 ],
 "metadata": {
  "accelerator": "GPU",
  "colab": {
   "gpuType": "T4",
   "provenance": []
  },
  "kernelspec": {
   "display_name": "Python 3 (ipykernel)",
   "language": "python",
   "name": "python3"
  },
  "language_info": {
   "codemirror_mode": {
    "name": "ipython",
    "version": 3
   },
   "file_extension": ".py",
   "mimetype": "text/x-python",
   "name": "python",
   "nbconvert_exporter": "python",
   "pygments_lexer": "ipython3",
   "version": "3.8.10"
  }
 },
 "nbformat": 4,
 "nbformat_minor": 4
}
