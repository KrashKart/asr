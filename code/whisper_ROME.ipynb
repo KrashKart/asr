{
 "cells": [
  {
   "cell_type": "markdown",
   "metadata": {
    "id": "I5thx0SEBIIN"
   },
   "source": [
    "# Initialisation and Dependencies"
   ]
  },
  {
   "cell_type": "code",
   "execution_count": 2,
   "metadata": {
    "tags": []
   },
   "outputs": [],
   "source": [
    "import sys\n",
    "lib_path = '/home/jovyan/libs'\n",
    "sys.path.insert(0, lib_path)"
   ]
  },
  {
   "cell_type": "code",
   "execution_count": 3,
   "metadata": {
    "id": "9rvOFi6QJP0z",
    "tags": []
   },
   "outputs": [],
   "source": [
    "import gc, math, traceback, datetime\n",
    "\n",
    "import numpy as np\n",
    "\n",
    "import torch\n",
    "import torch.nn.functional as F\n",
    "from torch.utils.data import DataLoader\n",
    "from torch.utils.tensorboard import SummaryWriter\n",
    "\n",
    "from datasets import load_from_disk\n",
    "\n",
    "import whisper\n",
    "from whisper.tokenizer import get_tokenizer\n",
    "\n",
    "from tqdm import tqdm\n",
    "\n",
    "from utils import audio, training\n",
    "from utils.attacks import PrepareMethod, PrepareFront\n",
    "\n",
    "from typing import Optional"
   ]
  },
  {
   "cell_type": "markdown",
   "metadata": {
    "id": "6EjUegebBNcX"
   },
   "source": [
    "# GPU RAM Tracking"
   ]
  },
  {
   "cell_type": "code",
   "execution_count": 4,
   "metadata": {
    "id": "jobgOLtEeLpx",
    "tags": []
   },
   "outputs": [],
   "source": [
    "def print_cuda_usage(msg: str = \"\"):\n",
    "    if torch.cuda.is_available():\n",
    "        print(f\"{msg}{torch.cuda.memory_allocated(0)/(1024 ** 3)} GB\")\n",
    "\n",
    "def get_cuda_usage():\n",
    "    return torch.cuda.memory_allocated(0)/(1024 ** 3)"
   ]
  },
  {
   "cell_type": "code",
   "execution_count": 5,
   "metadata": {
    "id": "1zjyFx78LvD-",
    "tags": []
   },
   "outputs": [],
   "source": [
    "if torch.cuda.is_available():\n",
    "    device = \"cuda\"\n",
    "else:\n",
    "    device = \"cpu\""
   ]
  },
  {
   "cell_type": "code",
   "execution_count": 6,
   "metadata": {
    "tags": []
   },
   "outputs": [
    {
     "data": {
      "text/plain": [
       "'cuda'"
      ]
     },
     "execution_count": 6,
     "metadata": {},
     "output_type": "execute_result"
    }
   ],
   "source": [
    "device"
   ]
  },
  {
   "cell_type": "markdown",
   "metadata": {
    "id": "yNEPbtquUG_g"
   },
   "source": [
    "# Load Model"
   ]
  },
  {
   "cell_type": "code",
   "execution_count": 7,
   "metadata": {
    "id": "aTrPYXKiygaU",
    "tags": []
   },
   "outputs": [],
   "source": [
    "try:\n",
    "    del model\n",
    "    print(\"Model deleted!\")\n",
    "except:\n",
    "    pass"
   ]
  },
  {
   "cell_type": "code",
   "execution_count": 8,
   "metadata": {
    "id": "zfgWJdLVJRbS",
    "tags": []
   },
   "outputs": [
    {
     "name": "stderr",
     "output_type": "stream",
     "text": [
      "/home/jovyan/libs/whisper/__init__.py:150: FutureWarning: You are using `torch.load` with `weights_only=False` (the current default value), which uses the default pickle module implicitly. It is possible to construct malicious pickle data which will execute arbitrary code during unpickling (See https://github.com/pytorch/pytorch/blob/main/SECURITY.md#untrusted-models for more details). In a future release, the default value for `weights_only` will be flipped to `True`. This limits the functions that could be executed during unpickling. Arbitrary objects will no longer be allowed to be loaded via this mode unless they are explicitly allowlisted by the user via `torch.serialization.add_safe_globals`. We recommend you start setting `weights_only=True` for any use case where you don't have full control of the loaded file. Please open an issue on GitHub for any issues related to this experimental feature.\n",
      "  checkpoint = torch.load(fp, map_location=device)\n"
     ]
    },
    {
     "name": "stdout",
     "output_type": "stream",
     "text": [
      "Bingle Bangle\n"
     ]
    }
   ],
   "source": [
    "MODEL_NAME = \"tiny.en\"\n",
    "\n",
    "clean_model = whisper.load_model(MODEL_NAME).to(device)\n",
    "corrupted_model = whisper.load_model(MODEL_NAME).to(device)\n",
    "\n",
    "clean_model.eval()\n",
    "corrupted_model.eval()\n",
    "\n",
    "print(\"Bingle Bangle\")"
   ]
  },
  {
   "cell_type": "code",
   "execution_count": 9,
   "metadata": {
    "id": "tolbjGxG7qB8",
    "tags": []
   },
   "outputs": [],
   "source": [
    "tokenizer = get_tokenizer(clean_model.is_multilingual, num_languages=clean_model.num_languages, language=\"en\", task=\"transcribe\")\n",
    "sot_ids = torch.tensor(tokenizer.sot_sequence_including_notimestamps, requires_grad=False)"
   ]
  },
  {
   "cell_type": "markdown",
   "metadata": {
    "id": "M8P5xS3UBTfT"
   },
   "source": [
    "# Load Data"
   ]
  },
  {
   "cell_type": "code",
   "execution_count": 10,
   "metadata": {
    "id": "upnfsCvahcEJ",
    "tags": []
   },
   "outputs": [],
   "source": [
    "tedlium_path = \"../tedlium\"\n",
    "path = f\"{tedlium_path}/test.hf\""
   ]
  },
  {
   "cell_type": "code",
   "execution_count": 11,
   "metadata": {
    "tags": []
   },
   "outputs": [],
   "source": [
    "SELECT = 100\n",
    "\n",
    "SEED = 1\n",
    "\n",
    "data = load_from_disk(path).with_format(\"torch\").shuffle(seed=SEED).select(range(SELECT))"
   ]
  },
  {
   "cell_type": "code",
   "execution_count": 12,
   "metadata": {
    "id": "MoAt_Utrb4sT",
    "tags": []
   },
   "outputs": [],
   "source": [
    "# def collate(ls):\n",
    "#     pad_to = max(list(map(lambda x: x[\"audio\"].shape[0], ls)))\n",
    "#     return torch.cat(list(map(lambda x: F.pad(x[\"audio\"], (0, pad_to - x[\"audio\"].shape[0])).unsqueeze(0).to(torch.bfloat16), ls)), dim=0)\n",
    "\n",
    "# def collate_idx(ls):\n",
    "#     return ls[0][\"audio\"].unsqueeze(0), ls[0][\"idx\"].item()\n",
    "\n",
    "# TRAIN_BATCH_SIZE = 1 # highly recommended to be 1\n",
    "\n",
    "# train_dataset = DataLoader(tedlium_train, batch_size=TRAIN_BATCH_SIZE, collate_fn=collate_idx)"
   ]
  },
  {
   "cell_type": "markdown",
   "metadata": {},
   "source": [
    "# Register Hooks"
   ]
  },
  {
   "cell_type": "code",
   "execution_count": 262,
   "metadata": {
    "tags": []
   },
   "outputs": [],
   "source": [
    "activations = {}\n",
    "debug_activations = {}\n",
    "hooks = []\n",
    "temp_hooks = []\n",
    "activation_count = [0]"
   ]
  },
  {
   "cell_type": "code",
   "execution_count": 263,
   "metadata": {
    "tags": []
   },
   "outputs": [],
   "source": [
    "def reset():\n",
    "    remove_hook_list(hooks)\n",
    "    remove_hook_list(temp_hooks)\n",
    "        \n",
    "    activations.clear()\n",
    "    debug_activations.clear()\n",
    "\n",
    "def remove_hook_list(hook_list):\n",
    "    for h in hook_list:\n",
    "        h.remove()\n",
    "    \n",
    "    hook_list.clear()\n",
    "\n",
    "def append_dict(d, k, value):\n",
    "    temp = d.get(k, [])\n",
    "    temp.append(value)\n",
    "    d[k] = temp\n",
    "    \n",
    "# for clean run\n",
    "def clean_hook(idx, d):\n",
    "    def hook(module, args, output):\n",
    "        append_dict(d, idx, output)\n",
    "        return output\n",
    "    return hook\n",
    "\n",
    "def corrupted_hook_embed(alpha=1):\n",
    "    def hook(module, args, output):\n",
    "        epsilons = torch.normal(0, alpha * torch.std(output.squeeze()).item(), size=tuple(output.shape)).to(output.device)\n",
    "        assert output.shape == (output + epsilons).shape, \"ERROR\"\n",
    "        return output + epsilons\n",
    "    return hook\n",
    "\n",
    "def corrupted_hook_with_correction(block, token):\n",
    "    def hook(module, args, out):\n",
    "        activation_count[0] += 1\n",
    "        if activation_count[0] == token:\n",
    "            out = activations[block][token]\n",
    "        append_dict(debug_activations, block, out)\n",
    "        return out\n",
    "    return hook"
   ]
  },
  {
   "cell_type": "code",
   "execution_count": 266,
   "metadata": {
    "tags": []
   },
   "outputs": [],
   "source": [
    "def register_hooks_by_block(model, hook_creator, d, hl):\n",
    "    \"\"\"\n",
    "    The parameter hook should be a function that returns a hook function\n",
    "    \"\"\"\n",
    "    for i, block in enumerate(model.decoder.blocks):\n",
    "        hook_i = hook_creator(i, d)\n",
    "        h = block.register_forward_hook(hook_i)\n",
    "        hl.append(h)\n",
    "        \n",
    "def register_hook_at_block(model, block, token, hl):\n",
    "    h = model.decoder.blocks[block].register_forward_hook(corrupted_hook_with_correction(block, token))\n",
    "    hl.append(h)\n",
    "    return h\n",
    "\n",
    "def register_hook_at_embedding(model, hook_creator, hl, alpha=1):\n",
    "    h = model.decoder.token_embedding.register_forward_hook(hook_creator(alpha))\n",
    "    hl.append(h)\n",
    "    return h"
   ]
  },
  {
   "cell_type": "code",
   "execution_count": 267,
   "metadata": {
    "tags": []
   },
   "outputs": [],
   "source": [
    "reset()"
   ]
  },
  {
   "cell_type": "code",
   "execution_count": 268,
   "metadata": {
    "tags": []
   },
   "outputs": [],
   "source": [
    "register_hooks_by_block(clean_model, clean_hook, activations, hooks)\n",
    "# register_hook_at_embedding(clean_model, clean_hook_embed)"
   ]
  },
  {
   "cell_type": "code",
   "execution_count": 226,
   "metadata": {
    "tags": []
   },
   "outputs": [],
   "source": [
    "register_hook_at_embedding(corrupted_model, corrupted_hook_embed, 0.1)\n",
    "variable_hook = register_hook_at_block(corrupted_model, 3, 0)\n",
    "register_hooks_by_block(corrupted_model, clean_hook, debug_activations)"
   ]
  },
  {
   "cell_type": "markdown",
   "metadata": {},
   "source": [
    "# Test Run for Hooks"
   ]
  },
  {
   "cell_type": "code",
   "execution_count": 199,
   "metadata": {
    "tags": []
   },
   "outputs": [
    {
     "data": {
      "text/plain": [
       "'and some fish meals and then he said chicken pellets'"
      ]
     },
     "execution_count": 199,
     "metadata": {},
     "output_type": "execute_result"
    }
   ],
   "source": [
    "example = data[20]\n",
    "wave = example\n",
    "example[\"text\"]"
   ]
  },
  {
   "cell_type": "code",
   "execution_count": 200,
   "metadata": {
    "tags": []
   },
   "outputs": [
    {
     "data": {
      "text/plain": [
       "' and some fish meals and then he said chicken pellets.'"
      ]
     },
     "execution_count": 200,
     "metadata": {},
     "output_type": "execute_result"
    }
   ],
   "source": [
    "res = clean_model.transcribe(wave)[\"text\"]\n",
    "res"
   ]
  },
  {
   "cell_type": "code",
   "execution_count": 201,
   "metadata": {
    "tags": []
   },
   "outputs": [
    {
     "data": {
      "text/plain": [
       "' and some fish and some fish meals. And then he said chicken CHICK and then he said chicken'"
      ]
     },
     "execution_count": 201,
     "metadata": {},
     "output_type": "execute_result"
    }
   ],
   "source": [
    "c_res = corrupted_model.transcribe(wave)[\"text\"]\n",
    "c_res"
   ]
  },
  {
   "cell_type": "markdown",
   "metadata": {},
   "source": [
    "# Model.forward()"
   ]
  },
  {
   "cell_type": "code",
   "execution_count": 253,
   "metadata": {
    "tags": []
   },
   "outputs": [],
   "source": [
    "from transformers import WhisperForConditionalGeneration, WhisperProcessor\n",
    "model_transformer = WhisperForConditionalGeneration.from_pretrained(\"openai/whisper-tiny.en\", local_files_only=True).cuda()\n",
    "processor = WhisperProcessor.from_pretrained(\"openai/whisper-tiny.en\", local_files_only=True)\n",
    "\n",
    "def infer_with_probs(audio, model, processor):\n",
    "    inputs = processor(audio, return_tensors=\"pt\", sampling_rate=16_000)\n",
    "    input_features = inputs.input_features.to(model.device)\n",
    "    \n",
    "    res = model.generate(input_features, return_dict_in_generate=True, output_scores=True)\n",
    "    eos_probs = torch.tensor([torch.nn.Softmax()(s.squeeze())[eos_id] for s in res[\"scores\"]])\n",
    "    return res, eos_probs"
   ]
  },
  {
   "cell_type": "code",
   "execution_count": 254,
   "metadata": {
    "tags": []
   },
   "outputs": [],
   "source": [
    "eos_id = processor.tokenizer.eos_token_id"
   ]
  },
  {
   "cell_type": "code",
   "execution_count": 258,
   "metadata": {
    "tags": []
   },
   "outputs": [],
   "source": [
    "rr, p = infer_with_probs(wave, model_transformer, processor)"
   ]
  },
  {
   "cell_type": "markdown",
   "metadata": {},
   "source": [
    "# Causal Tracing"
   ]
  },
  {
   "cell_type": "code",
   "execution_count": null,
   "metadata": {},
   "outputs": [],
   "source": [
    "remove_all_hooks()\n",
    "\n",
    "register_hooks_by_block(clean_model, clean_hook, activations)\n",
    "register_hook_at_embedding(corrupted_model, corrupted_hook_embed, 0.1)\n",
    "variable_hook = register_hook_at_block(corrupted_model, 3, 0)\n",
    "register_hooks_by_block(corrupted_model, clean_hook, debug_activations)"
   ]
  }
 ],
 "metadata": {
  "accelerator": "GPU",
  "colab": {
   "gpuType": "T4",
   "provenance": []
  },
  "kernelspec": {
   "display_name": "Python 3 (ipykernel)",
   "language": "python",
   "name": "python3"
  },
  "language_info": {
   "codemirror_mode": {
    "name": "ipython",
    "version": 3
   },
   "file_extension": ".py",
   "mimetype": "text/x-python",
   "name": "python",
   "nbconvert_exporter": "python",
   "pygments_lexer": "ipython3",
   "version": "3.8.10"
  }
 },
 "nbformat": 4,
 "nbformat_minor": 4
}
