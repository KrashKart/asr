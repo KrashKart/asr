{
 "cells": [
  {
   "cell_type": "markdown",
   "metadata": {
    "id": "I5thx0SEBIIN"
   },
   "source": [
    "# Initialisation and Dependencies"
   ]
  },
  {
   "cell_type": "code",
   "execution_count": 1,
   "metadata": {
    "tags": []
   },
   "outputs": [],
   "source": [
    "import sys\n",
    "lib_path = '/home/jovyan/libs'\n",
    "sys.path.insert(0, lib_path)"
   ]
  },
  {
   "cell_type": "code",
   "execution_count": 2,
   "metadata": {
    "id": "9rvOFi6QJP0z",
    "tags": []
   },
   "outputs": [],
   "source": [
    "import gc, math, traceback, datetime\n",
    "\n",
    "import numpy as np\n",
    "\n",
    "import torch\n",
    "import torch.nn.functional as F\n",
    "from torch.utils.data import DataLoader\n",
    "from torch.utils.tensorboard import SummaryWriter\n",
    "\n",
    "from datasets import load_from_disk\n",
    "\n",
    "import whisper\n",
    "from whisper.tokenizer import get_tokenizer\n",
    "\n",
    "from tqdm import tqdm\n",
    "\n",
    "from utils import audio, training\n",
    "from utils.attacks import PrepareMethod, PrepareFront\n",
    "\n",
    "from typing import Optional"
   ]
  },
  {
   "cell_type": "markdown",
   "metadata": {
    "id": "6EjUegebBNcX"
   },
   "source": [
    "# GPU RAM Tracking"
   ]
  },
  {
   "cell_type": "code",
   "execution_count": 3,
   "metadata": {
    "id": "jobgOLtEeLpx",
    "tags": []
   },
   "outputs": [],
   "source": [
    "def print_cuda_usage(msg: str = \"\"):\n",
    "    if torch.cuda.is_available():\n",
    "        print(f\"{msg}{torch.cuda.memory_allocated(0)/(1024 ** 3)} GB\")\n",
    "\n",
    "def get_cuda_usage():\n",
    "    return torch.cuda.memory_allocated(0)/(1024 ** 3)"
   ]
  },
  {
   "cell_type": "code",
   "execution_count": 4,
   "metadata": {
    "id": "1zjyFx78LvD-",
    "tags": []
   },
   "outputs": [],
   "source": [
    "if torch.cuda.is_available():\n",
    "    device = \"cuda\"\n",
    "else:\n",
    "    device = \"cpu\""
   ]
  },
  {
   "cell_type": "code",
   "execution_count": 5,
   "metadata": {
    "tags": []
   },
   "outputs": [
    {
     "data": {
      "text/plain": [
       "'cuda'"
      ]
     },
     "execution_count": 5,
     "metadata": {},
     "output_type": "execute_result"
    }
   ],
   "source": [
    "device"
   ]
  },
  {
   "cell_type": "markdown",
   "metadata": {
    "id": "yNEPbtquUG_g"
   },
   "source": [
    "# Load Model"
   ]
  },
  {
   "cell_type": "code",
   "execution_count": 6,
   "metadata": {
    "id": "aTrPYXKiygaU",
    "tags": []
   },
   "outputs": [],
   "source": [
    "try:\n",
    "    del model\n",
    "    print(\"Model deleted!\")\n",
    "except:\n",
    "    pass"
   ]
  },
  {
   "cell_type": "code",
   "execution_count": 7,
   "metadata": {
    "id": "zfgWJdLVJRbS",
    "tags": []
   },
   "outputs": [
    {
     "name": "stderr",
     "output_type": "stream",
     "text": [
      "/home/jovyan/libs/whisper/__init__.py:150: FutureWarning: You are using `torch.load` with `weights_only=False` (the current default value), which uses the default pickle module implicitly. It is possible to construct malicious pickle data which will execute arbitrary code during unpickling (See https://github.com/pytorch/pytorch/blob/main/SECURITY.md#untrusted-models for more details). In a future release, the default value for `weights_only` will be flipped to `True`. This limits the functions that could be executed during unpickling. Arbitrary objects will no longer be allowed to be loaded via this mode unless they are explicitly allowlisted by the user via `torch.serialization.add_safe_globals`. We recommend you start setting `weights_only=True` for any use case where you don't have full control of the loaded file. Please open an issue on GitHub for any issues related to this experimental feature.\n",
      "  checkpoint = torch.load(fp, map_location=device)\n"
     ]
    },
    {
     "name": "stdout",
     "output_type": "stream",
     "text": [
      "Bingle Bangle\n"
     ]
    }
   ],
   "source": [
    "MODEL_NAME = \"tiny.en\"\n",
    "\n",
    "clean_model = whisper.load_model(MODEL_NAME).to(device)\n",
    "corrupted_model = whisper.load_model(MODEL_NAME).to(device)\n",
    "\n",
    "clean_model.eval()\n",
    "corrupted_model.eval()\n",
    "\n",
    "print(\"Bingle Bangle\")"
   ]
  },
  {
   "cell_type": "code",
   "execution_count": 8,
   "metadata": {
    "id": "tolbjGxG7qB8",
    "tags": []
   },
   "outputs": [],
   "source": [
    "tokenizer = get_tokenizer(clean_model.is_multilingual, num_languages=clean_model.num_languages, language=\"en\", task=\"transcribe\")\n",
    "sot_ids = torch.tensor(tokenizer.sot_sequence_including_notimestamps, requires_grad=False)"
   ]
  },
  {
   "cell_type": "markdown",
   "metadata": {
    "id": "M8P5xS3UBTfT"
   },
   "source": [
    "# Load Data"
   ]
  },
  {
   "cell_type": "code",
   "execution_count": 9,
   "metadata": {
    "id": "upnfsCvahcEJ",
    "tags": []
   },
   "outputs": [],
   "source": [
    "tedlium_path = \"../tedlium\"\n",
    "path = f\"{tedlium_path}/test.hf\""
   ]
  },
  {
   "cell_type": "code",
   "execution_count": 10,
   "metadata": {
    "tags": []
   },
   "outputs": [],
   "source": [
    "SELECT = 100\n",
    "\n",
    "SEED = 1\n",
    "\n",
    "data = load_from_disk(path).with_format(\"torch\").shuffle(seed=SEED).select(range(SELECT))"
   ]
  },
  {
   "cell_type": "code",
   "execution_count": 11,
   "metadata": {
    "id": "MoAt_Utrb4sT",
    "tags": []
   },
   "outputs": [],
   "source": [
    "# def collate(ls):\n",
    "#     pad_to = max(list(map(lambda x: x[\"audio\"].shape[0], ls)))\n",
    "#     return torch.cat(list(map(lambda x: F.pad(x[\"audio\"], (0, pad_to - x[\"audio\"].shape[0])).unsqueeze(0).to(torch.bfloat16), ls)), dim=0)\n",
    "\n",
    "# def collate_idx(ls):\n",
    "#     return ls[0][\"audio\"].unsqueeze(0), ls[0][\"idx\"].item()\n",
    "\n",
    "# TRAIN_BATCH_SIZE = 1 # highly recommended to be 1\n",
    "\n",
    "# train_dataset = DataLoader(tedlium_train, batch_size=TRAIN_BATCH_SIZE, collate_fn=collate_idx)"
   ]
  },
  {
   "cell_type": "markdown",
   "metadata": {},
   "source": [
    "# Register Hooks"
   ]
  },
  {
   "cell_type": "code",
   "execution_count": 12,
   "metadata": {
    "tags": []
   },
   "outputs": [],
   "source": [
    "def remove_all_hooks(hook_list=None, embeded_hook=None):\n",
    "    if hook_list:\n",
    "        for h in hook_list:\n",
    "            h.remove()\n",
    "            \n",
    "    if embeded_hooks:\n",
    "        for e in embeded_hooks:\n",
    "            e.remove()\n",
    "\n",
    "    activations.clear()\n",
    "    embeddings.clear()\n",
    "    clean_hooks.clear()\n",
    "    embeded_hooks.clear()\n",
    "\n",
    "# for clean run\n",
    "def clean_hook(idx):\n",
    "    def hook(module, args, output):\n",
    "        temp = activations.get(idx, [])\n",
    "        temp.append(output)\n",
    "        activations[idx] = temp\n",
    "        return output\n",
    "    return hook\n",
    "\n",
    "def clean_hook_embed(idx):\n",
    "    def hook(module, args, output):\n",
    "        embeddings[\"clean\"] = output\n",
    "        return output\n",
    "    return hook\n",
    "\n",
    "def corrupted_hook_embed(alpha=1):\n",
    "    def hook(module, args, output):\n",
    "        epsilons = alpha * torch.normal(0, torch.std(output.squeeze()).item(), size=tuple(output.shape)).to(output.device)\n",
    "        embeddings[\"corrupted\"] = output + epsilons\n",
    "        return output + epsilons\n",
    "    return hook\n",
    "\n",
    "def corrupted_hook_with_correction(block, token):\n",
    "    def hook(module, args, out):\n",
    "        activation_count[0] += 1\n",
    "        if activation_count[0] == token: \n",
    "            return activations[block][token]\n",
    "        return out\n",
    "    return hook"
   ]
  },
  {
   "cell_type": "code",
   "execution_count": 13,
   "metadata": {
    "tags": []
   },
   "outputs": [],
   "source": [
    "def register_hooks_by_block(model, hook_creator, hooklist):\n",
    "    \"\"\"\n",
    "    The parameter hook should be a function that returns a hook function\n",
    "    \"\"\"\n",
    "    for i, block in enumerate(model.decoder.blocks):\n",
    "        hook_i = hook_creator(i)\n",
    "        h = block.register_forward_hook(hook_i)\n",
    "        hooklist.append(h)\n",
    "        \n",
    "def register_hook_by_block(model, block, token):\n",
    "    h = model.decoder.blocks[block].register_forward_hook(corrupted_hook_with_correction(block, token))\n",
    "    return h\n",
    "\n",
    "def register_hook_at_embedding(model, hook_creator, alpha=1):\n",
    "    h = model.decoder.token_embedding.register_forward_hook(hook_creator(alpha))\n",
    "    embeded_hooks.append(h)\n",
    "    return h"
   ]
  },
  {
   "cell_type": "code",
   "execution_count": 21,
   "metadata": {
    "tags": []
   },
   "outputs": [],
   "source": [
    "try:\n",
    "    remove_all_hooks(clean_hooks, embeded_hooks)\n",
    "    selective_hook.remove()\n",
    "except:\n",
    "    pass\n",
    "activations = {}\n",
    "embeddings = {}\n",
    "clean_hooks = []\n",
    "embeded_hooks = []\n",
    "activation_count = [0]\n",
    "\n",
    "_activation_count = 0"
   ]
  },
  {
   "cell_type": "code",
   "execution_count": 22,
   "metadata": {
    "tags": []
   },
   "outputs": [],
   "source": [
    "register_hooks_by_block(clean_model, clean_hook, clean_hooks)\n",
    "embed_clean_hook = register_hook_at_embedding(clean_model, clean_hook_embed)"
   ]
  },
  {
   "cell_type": "code",
   "execution_count": 23,
   "metadata": {
    "tags": []
   },
   "outputs": [],
   "source": [
    "embed_corrupt_hook = register_hook_at_embedding(corrupted_model, corrupted_hook_embed, 0.75)\n",
    "# selective_hook = register_hook_by_block(corrupted_model, 0, 5)"
   ]
  },
  {
   "cell_type": "markdown",
   "metadata": {},
   "source": [
    "# Test Run for Hooks"
   ]
  },
  {
   "cell_type": "code",
   "execution_count": 24,
   "metadata": {
    "tags": []
   },
   "outputs": [
    {
     "data": {
      "text/plain": [
       "'and some fish meals and then he said chicken pellets'"
      ]
     },
     "execution_count": 24,
     "metadata": {},
     "output_type": "execute_result"
    }
   ],
   "source": [
    "example = data[20]\n",
    "wave = example[\"audio\"]\n",
    "example[\"text\"]"
   ]
  },
  {
   "cell_type": "code",
   "execution_count": 25,
   "metadata": {
    "tags": []
   },
   "outputs": [
    {
     "data": {
      "text/plain": [
       "' and some fish meals and then he said chicken pellets.'"
      ]
     },
     "execution_count": 25,
     "metadata": {},
     "output_type": "execute_result"
    }
   ],
   "source": [
    "res = clean_model.transcribe(wave)[\"text\"]\n",
    "res"
   ]
  },
  {
   "cell_type": "code",
   "execution_count": 26,
   "metadata": {
    "tags": []
   },
   "outputs": [
    {
     "data": {
      "text/plain": [
       "' And we put some fish and fish So chicken soy.'"
      ]
     },
     "execution_count": 26,
     "metadata": {},
     "output_type": "execute_result"
    }
   ],
   "source": [
    "c_res = corrupted_model.transcribe(wave)[\"text\"]\n",
    "c_res"
   ]
  },
  {
   "cell_type": "code",
   "execution_count": 27,
   "metadata": {
    "tags": []
   },
   "outputs": [],
   "source": [
    "for k, v in activations.items():\n",
    "    activations[k] = torch.stack(v).squeeze()"
   ]
  },
  {
   "cell_type": "markdown",
   "metadata": {},
   "source": [
    "# Causal Tracing"
   ]
  },
  {
   "cell_type": "code",
   "execution_count": null,
   "metadata": {},
   "outputs": [],
   "source": []
  }
 ],
 "metadata": {
  "accelerator": "GPU",
  "colab": {
   "gpuType": "T4",
   "provenance": []
  },
  "kernelspec": {
   "display_name": "Python 3 (ipykernel)",
   "language": "python",
   "name": "python3"
  },
  "language_info": {
   "codemirror_mode": {
    "name": "ipython",
    "version": 3
   },
   "file_extension": ".py",
   "mimetype": "text/x-python",
   "name": "python",
   "nbconvert_exporter": "python",
   "pygments_lexer": "ipython3",
   "version": "3.8.10"
  }
 },
 "nbformat": 4,
 "nbformat_minor": 4
}
