{
 "cells": [
  {
   "cell_type": "markdown",
   "metadata": {
    "id": "I5thx0SEBIIN"
   },
   "source": [
    "# Initialisation and Dependencies"
   ]
  },
  {
   "cell_type": "code",
   "execution_count": 1,
   "metadata": {
    "tags": []
   },
   "outputs": [],
   "source": [
    "import sys\n",
    "lib_path = '/home/jovyan/libs'\n",
    "sys.path.insert(0, lib_path)"
   ]
  },
  {
   "cell_type": "code",
   "execution_count": 2,
   "metadata": {
    "id": "9rvOFi6QJP0z",
    "tags": []
   },
   "outputs": [],
   "source": [
    "import gc, math, traceback, datetime\n",
    "\n",
    "import numpy as np\n",
    "\n",
    "import torch\n",
    "import torch.nn.functional as F\n",
    "from torch.utils.data import DataLoader\n",
    "from torch.utils.tensorboard import SummaryWriter\n",
    "\n",
    "from datasets import load_from_disk\n",
    "\n",
    "from transformers import WhisperForConditionalGeneration, WhisperProcessor\n",
    "\n",
    "from tqdm import tqdm\n",
    "\n",
    "from utils import audio, training\n",
    "from utils.attacks import PrepareMethod, PrepareFront\n",
    "\n",
    "from typing import Optional"
   ]
  },
  {
   "cell_type": "markdown",
   "metadata": {
    "id": "6EjUegebBNcX"
   },
   "source": [
    "# GPU RAM Tracking"
   ]
  },
  {
   "cell_type": "code",
   "execution_count": 3,
   "metadata": {
    "id": "jobgOLtEeLpx",
    "tags": []
   },
   "outputs": [],
   "source": [
    "def print_cuda_usage(msg: str = \"\"):\n",
    "    if torch.cuda.is_available():\n",
    "        print(f\"{msg}{torch.cuda.memory_allocated(0)/(1024 ** 3)} GB\")\n",
    "\n",
    "def get_cuda_usage():\n",
    "    return torch.cuda.memory_allocated(0)/(1024 ** 3)"
   ]
  },
  {
   "cell_type": "code",
   "execution_count": 4,
   "metadata": {
    "id": "1zjyFx78LvD-",
    "tags": []
   },
   "outputs": [],
   "source": [
    "if torch.cuda.is_available():\n",
    "    device = \"cuda\"\n",
    "else:\n",
    "    device = \"cpu\""
   ]
  },
  {
   "cell_type": "code",
   "execution_count": 5,
   "metadata": {
    "tags": []
   },
   "outputs": [
    {
     "data": {
      "text/plain": [
       "'cuda'"
      ]
     },
     "execution_count": 5,
     "metadata": {},
     "output_type": "execute_result"
    }
   ],
   "source": [
    "device"
   ]
  },
  {
   "cell_type": "markdown",
   "metadata": {
    "id": "yNEPbtquUG_g"
   },
   "source": [
    "# Load Models"
   ]
  },
  {
   "cell_type": "code",
   "execution_count": 6,
   "metadata": {
    "id": "aTrPYXKiygaU",
    "tags": []
   },
   "outputs": [],
   "source": [
    "try:\n",
    "    del clean_model\n",
    "    del corrupted_model\n",
    "    print(\"Models deleted!\")\n",
    "except:\n",
    "    pass"
   ]
  },
  {
   "cell_type": "code",
   "execution_count": 34,
   "metadata": {
    "id": "zfgWJdLVJRbS",
    "tags": []
   },
   "outputs": [
    {
     "name": "stdout",
     "output_type": "stream",
     "text": [
      "Done\n"
     ]
    }
   ],
   "source": [
    "MODEL_NAME = \"tiny.en\"\n",
    "\n",
    "clean_model = WhisperForConditionalGeneration.from_pretrained(f\"openai/whisper-{MODEL_NAME}\", local_files_only=True).cuda()\n",
    "corrupted_model = WhisperForConditionalGeneration.from_pretrained(f\"openai/whisper-{MODEL_NAME}\", local_files_only=True).cuda()\n",
    "processor = WhisperProcessor.from_pretrained(f\"openai/whisper-{MODEL_NAME}\", local_files_only=True)\n",
    "eos_id = processor.tokenizer.eos_token_id\n",
    "\n",
    "clean_model.eval()\n",
    "corrupted_model.eval()\n",
    "\n",
    "print(\"Done\")"
   ]
  },
  {
   "cell_type": "markdown",
   "metadata": {
    "id": "M8P5xS3UBTfT"
   },
   "source": [
    "# Load Data"
   ]
  },
  {
   "cell_type": "code",
   "execution_count": 35,
   "metadata": {
    "id": "upnfsCvahcEJ",
    "tags": []
   },
   "outputs": [],
   "source": [
    "tedlium_path = \"../tedlium\"\n",
    "path = f\"{tedlium_path}/test.hf\""
   ]
  },
  {
   "cell_type": "code",
   "execution_count": 36,
   "metadata": {
    "tags": []
   },
   "outputs": [],
   "source": [
    "SELECT = 100\n",
    "\n",
    "SEED = 1\n",
    "\n",
    "data = load_from_disk(path).with_format(\"torch\").shuffle(seed=SEED).select(range(SELECT))"
   ]
  },
  {
   "cell_type": "code",
   "execution_count": 37,
   "metadata": {
    "id": "MoAt_Utrb4sT",
    "tags": []
   },
   "outputs": [],
   "source": [
    "# def collate(ls):\n",
    "#     pad_to = max(list(map(lambda x: x[\"audio\"].shape[0], ls)))\n",
    "#     return torch.cat(list(map(lambda x: F.pad(x[\"audio\"], (0, pad_to - x[\"audio\"].shape[0])).unsqueeze(0).to(torch.bfloat16), ls)), dim=0)\n",
    "\n",
    "# def collate_idx(ls):\n",
    "#     return ls[0][\"audio\"].unsqueeze(0), ls[0][\"idx\"].item()\n",
    "\n",
    "# TRAIN_BATCH_SIZE = 1 # highly recommended to be 1\n",
    "\n",
    "# train_dataset = DataLoader(tedlium_train, batch_size=TRAIN_BATCH_SIZE, collate_fn=collate_idx)"
   ]
  },
  {
   "cell_type": "markdown",
   "metadata": {},
   "source": [
    "# Register Hooks"
   ]
  },
  {
   "cell_type": "code",
   "execution_count": 38,
   "metadata": {
    "tags": []
   },
   "outputs": [],
   "source": [
    "activations = {}\n",
    "debug_activations = {}\n",
    "hooks = []\n",
    "temp_hooks = []\n",
    "activation_count = [0]"
   ]
  },
  {
   "cell_type": "code",
   "execution_count": 39,
   "metadata": {
    "tags": []
   },
   "outputs": [],
   "source": [
    "def reset():\n",
    "    remove_hook_list(hooks)\n",
    "    remove_hook_list(temp_hooks)\n",
    "        \n",
    "    activations.clear()\n",
    "    debug_activations.clear()\n",
    "\n",
    "def remove_hook_list(hook_list):\n",
    "    for h in hook_list:\n",
    "        h.remove()\n",
    "    \n",
    "    hook_list.clear()\n",
    "\n",
    "def append_dict(d, k, value):\n",
    "    temp = d.get(k, [])\n",
    "    temp.append(value)\n",
    "    d[k] = temp\n",
    "    \n",
    "# for clean run\n",
    "def clean_hook(idx, d):\n",
    "    def hook(module, args, output):\n",
    "        append_dict(d, idx, output)\n",
    "        return output\n",
    "    return hook\n",
    "\n",
    "def corrupted_hook_embed(alpha=1):\n",
    "    def hook(module, args, output):\n",
    "        epsilons = torch.normal(0, alpha * torch.std(output.squeeze()).item(), size=tuple(output.shape)).to(output.device)\n",
    "        assert output.shape == (output + epsilons).shape, \"ERROR\"\n",
    "        return output + epsilons\n",
    "    return hook\n",
    "\n",
    "def corrupted_hook_with_correction(block, token):\n",
    "    def hook(module, args, out):\n",
    "        activation_count[0] += 1\n",
    "        if activation_count[0] == token:\n",
    "            out = activations[block][token]\n",
    "        return out\n",
    "    return hook"
   ]
  },
  {
   "cell_type": "code",
   "execution_count": 40,
   "metadata": {
    "tags": []
   },
   "outputs": [],
   "source": [
    "def register_hooks_by_block(model, hook_creator, d, hl):\n",
    "    \"\"\"\n",
    "    The parameter hook should be a function that returns a hook function\n",
    "    \"\"\"\n",
    "    for i, block in enumerate(model.model.decoder.layers):\n",
    "        hook_i = hook_creator(i, d)\n",
    "        h = block.register_forward_hook(hook_i)\n",
    "        hl.append(h)\n",
    "        \n",
    "def register_hook_at_block(model, block, token, hl):\n",
    "    h = model.model.decoder.layers[block].register_forward_hook(corrupted_hook_with_correction(block, token))\n",
    "    hl.append(h)\n",
    "    return h\n",
    "\n",
    "def register_hook_at_embedding(model, hook_creator, hl, alpha=1):\n",
    "    h = model.model.decoder.embed_tokens.register_forward_hook(hook_creator(alpha))\n",
    "    hl.append(h)"
   ]
  },
  {
   "cell_type": "markdown",
   "metadata": {},
   "source": [
    "# Inference"
   ]
  },
  {
   "cell_type": "code",
   "execution_count": 41,
   "metadata": {
    "tags": []
   },
   "outputs": [],
   "source": [
    "def infer_with_probs(audio, model, processor):\n",
    "    inputs = processor(audio, return_tensors=\"pt\", sampling_rate=16_000)\n",
    "    input_features = inputs.input_features.to(model.device)\n",
    "    \n",
    "    res = model.generate(input_features, return_dict_in_generate=True, output_scores=True)\n",
    "    eos_probs = torch.tensor([torch.nn.Softmax(dim=0)(s.squeeze())[eos_id] for s in res[\"scores\"]]) # get eos id for each token\n",
    "    \n",
    "    decoded = processor.decode(res.sequences.squeeze(), skip_special_tokens=True)\n",
    "    return decoded, res, eos_probs"
   ]
  },
  {
   "cell_type": "markdown",
   "metadata": {},
   "source": [
    "# Establish Clean Hooks"
   ]
  },
  {
   "cell_type": "code",
   "execution_count": 42,
   "metadata": {
    "tags": []
   },
   "outputs": [],
   "source": [
    "reset()"
   ]
  },
  {
   "cell_type": "code",
   "execution_count": 43,
   "metadata": {
    "tags": []
   },
   "outputs": [],
   "source": [
    "register_hooks_by_block(clean_model, clean_hook, activations, hooks)"
   ]
  },
  {
   "cell_type": "code",
   "execution_count": 44,
   "metadata": {
    "tags": []
   },
   "outputs": [
    {
     "data": {
      "text/plain": [
       "'and some fish meals and then he said chicken pellets'"
      ]
     },
     "execution_count": 44,
     "metadata": {},
     "output_type": "execute_result"
    }
   ],
   "source": [
    "example = data[20]\n",
    "wave = example[\"audio\"]\n",
    "example[\"text\"]"
   ]
  },
  {
   "cell_type": "code",
   "execution_count": 45,
   "metadata": {
    "tags": []
   },
   "outputs": [
    {
     "data": {
      "text/plain": [
       "' and some fish meals and then he said chicken pellets.'"
      ]
     },
     "execution_count": 45,
     "metadata": {},
     "output_type": "execute_result"
    }
   ],
   "source": [
    "decoded, res, eos_probs = infer_with_probs(wave, clean_model, processor)\n",
    "decoded"
   ]
  },
  {
   "cell_type": "code",
   "execution_count": 66,
   "metadata": {
    "tags": []
   },
   "outputs": [
    {
     "data": {
      "text/plain": [
       "tensor([0.0000e+00, 4.2728e-05, 3.6651e-06, 2.8615e-06, 2.3279e-04, 7.3043e-05,\n",
       "        1.1265e-04, 1.8888e-05, 1.1879e-04, 4.4060e-04, 1.6771e-01, 9.9249e-01])"
      ]
     },
     "execution_count": 66,
     "metadata": {},
     "output_type": "execute_result"
    }
   ],
   "source": [
    "eos_probs"
   ]
  },
  {
   "cell_type": "code",
   "execution_count": 46,
   "metadata": {
    "tags": []
   },
   "outputs": [],
   "source": [
    "assert activations, \"Activations is empty! Reverify\""
   ]
  },
  {
   "cell_type": "markdown",
   "metadata": {},
   "source": [
    "# Corrupt Model and Run"
   ]
  },
  {
   "cell_type": "code",
   "execution_count": 47,
   "metadata": {
    "tags": []
   },
   "outputs": [
    {
     "data": {
      "text/plain": [
       "(' and some fish meals and then he said chicken pellets.',\n",
       " tensor([0.0000e+00, 4.2728e-05, 3.6651e-06, 2.8615e-06, 2.3279e-04, 7.3043e-05,\n",
       "         1.1265e-04, 1.8888e-05, 1.1879e-04, 4.4060e-04, 1.6771e-01, 9.9249e-01]))"
      ]
     },
     "execution_count": 47,
     "metadata": {},
     "output_type": "execute_result"
    }
   ],
   "source": [
    "# Verify model is sane before inserting hook\n",
    "dd, rr, p = infer_with_probs(wave, corrupted_model, processor)\n",
    "dd, p"
   ]
  },
  {
   "cell_type": "code",
   "execution_count": 48,
   "metadata": {
    "tags": []
   },
   "outputs": [],
   "source": [
    "embed_hook = register_hook_at_embedding(corrupted_model, corrupted_hook_embed, hooks, alpha=1)"
   ]
  },
  {
   "cell_type": "code",
   "execution_count": 49,
   "metadata": {
    "tags": []
   },
   "outputs": [
    {
     "data": {
      "text/plain": [
       "' and some fish and fish and and and and and and and and and and and and and and and and and and and and and and and and and and and and and and and and and and and and and and and and and and and and and and and and and and and and and and and and and and and and and and and and and and and and and and and and and and and and and and and and and and and and and and and and and and and and and and and and and and and and and and and and and and and and and and and and and and and and and and and and and and and and and and and and and and and and and and and and and and and and and and and and and and and and and and and and and and and and and and and and and and and and and and and and and and and and and and and and and and and and and and and and and and and and and and and and and and and and and and and and and and and and and and and and and and and and and and and and and and and and and and and and and and and and and and and and and and and and and and and and and and and and and and and and and and and and and and and and and and and and and and and and and and and and and and and and and and and and and and and and and and and and and and and and and and and and and and and and and and and and and and and and and and and and and and and and and and and and and and and and and and and and and and and and and and and and and and and and and and and and and and and and and and and and and and and and and and and and and and and and and and and and and and and and and and and and and and and and and and and and and and and and and and and and and and and and and and and and and and and and and and and and and and and and and and and and and and and and and and and and and and and and and and and and and and and and and and and and and and and and and'"
      ]
     },
     "execution_count": 49,
     "metadata": {},
     "output_type": "execute_result"
    }
   ],
   "source": [
    "dd, rr, p = infer_with_probs(wave, corrupted_model, processor)\n",
    "dd"
   ]
  },
  {
   "cell_type": "markdown",
   "metadata": {},
   "source": [
    "# Causal Tracing"
   ]
  },
  {
   "cell_type": "code",
   "execution_count": 53,
   "metadata": {
    "tags": []
   },
   "outputs": [
    {
     "name": "stdout",
     "output_type": "stream",
     "text": [
      "Token 1/12\n",
      "Token 2/12\n",
      "Token 3/12\n",
      "Token 4/12\n",
      "Token 5/12\n",
      "Token 6/12\n",
      "Token 7/12\n",
      "Token 8/12\n",
      "Token 9/12\n",
      "Token 10/12\n",
      "Token 11/12\n",
      "Token 12/12\n"
     ]
    }
   ],
   "source": [
    "results = []\n",
    "temp_holder = []\n",
    "\n",
    "try:\n",
    "    for token in range(len(activations[0])):\n",
    "        blocks = []\n",
    "        dds = []\n",
    "        for block in range(4):\n",
    "            activation_count = [0]\n",
    "            correction_hook = register_hook_at_block(corrupted_model, block, token, temp_holder)\n",
    "            dd, _, eos_prob = infer_with_probs(wave, corrupted_model, processor)\n",
    "            correction_hook.remove()\n",
    "            temp_holder.clear()\n",
    "            blocks.append(eos_prob[1]) # eos prob for 1st token..?\n",
    "            dds.append(dd)\n",
    "        results.append(torch.stack(blocks))\n",
    "        print(f\"Token {token + 1}/{len(activations[0])}\")\n",
    "except Exception as e:\n",
    "    correction_hook.remove()\n",
    "    traceback.print_exc()"
   ]
  },
  {
   "cell_type": "code",
   "execution_count": 54,
   "metadata": {
    "tags": []
   },
   "outputs": [],
   "source": [
    "results_stacked = torch.stack(results)"
   ]
  },
  {
   "cell_type": "code",
   "execution_count": 67,
   "metadata": {
    "tags": []
   },
   "outputs": [
    {
     "data": {
      "text/plain": [
       "tensor([[4.7641e-02, 5.5790e-02, 5.7573e-03, 4.7918e-03],\n",
       "        [2.7959e-03, 6.0565e-02, 2.6432e-03, 9.2608e-02],\n",
       "        [7.5538e-05, 5.5882e-05, 1.8227e-05, 3.6651e-06],\n",
       "        [8.7254e-03, 5.2750e-03, 1.2482e-02, 1.8250e-01],\n",
       "        [3.2623e-02, 9.9683e-03, 2.5706e-03, 5.9099e-02],\n",
       "        [6.8709e-02, 2.0057e-02, 2.7204e-02, 4.5043e-03],\n",
       "        [1.3571e-01, 3.2034e-02, 7.0690e-02, 1.0624e-02],\n",
       "        [1.3703e-04, 2.9699e-02, 8.3526e-03, 5.6507e-02],\n",
       "        [5.9221e-03, 1.3987e-02, 1.0951e-01, 7.5430e-04],\n",
       "        [1.1773e-01, 3.4501e-04, 8.2450e-02, 3.8090e-01],\n",
       "        [5.8868e-02, 7.4940e-03, 7.8462e-03, 1.6228e-02],\n",
       "        [4.2019e-02, 7.6046e-03, 1.5271e-01, 3.1813e-02]])"
      ]
     },
     "execution_count": 67,
     "metadata": {},
     "output_type": "execute_result"
    }
   ],
   "source": [
    "results_stacked"
   ]
  },
  {
   "cell_type": "code",
   "execution_count": 72,
   "metadata": {
    "tags": []
   },
   "outputs": [
    {
     "data": {
      "image/png": "[encoded data removed]",
      "text/plain": [
       "<Figure size 640x480 with 2 Axes>"
      ]
     },
     "metadata": {},
     "output_type": "display_data"
    }
   ],
   "source": [
    "import seaborn as sns\n",
    "import matplotlib.pyplot as plt\n",
    "\n",
    "fig, ax = plt.subplots()\n",
    "ax = sns.heatmap(results_stacked, ax=ax)\n",
    "ax.set_xlabel(\"Restored Layer\")\n",
    "ax.set_ylabel(\"Restored Token number\")\n",
    "ax.set_title(\"Probability of EOS over restored tokens and layers\")\n",
    "plt.show()"
   ]
  },
  {
   "cell_type": "code",
   "execution_count": null,
   "metadata": {},
   "outputs": [],
   "source": []
  }
 ],
 "metadata": {
  "accelerator": "GPU",
  "colab": {
   "gpuType": "T4",
   "provenance": []
  },
  "kernelspec": {
   "display_name": "Python 3 (ipykernel)",
   "language": "python",
   "name": "python3"
  },
  "language_info": {
   "codemirror_mode": {
    "name": "ipython",
    "version": 3
   },
   "file_extension": ".py",
   "mimetype": "text/x-python",
   "name": "python",
   "nbconvert_exporter": "python",
   "pygments_lexer": "ipython3",
   "version": "3.8.10"
  }
 },
 "nbformat": 4,
 "nbformat_minor": 4
}
