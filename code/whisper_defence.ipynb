{
 "cells": [
  {
   "cell_type": "code",
   "execution_count": 1,
   "id": "3f0c6847-a4cf-4afd-8305-d2cdab90dadd",
   "metadata": {},
   "outputs": [],
   "source": [
    "import sys\n",
    "lib_path = '/home/jovyan/libs'\n",
    "sys.path.insert(0, lib_path)"
   ]
  },
  {
   "cell_type": "code",
   "execution_count": 11,
   "id": "93d6d394-dd7a-4743-adef-d911d5815778",
   "metadata": {},
   "outputs": [],
   "source": [
    "%reload_ext autoreload\n",
    "%autoreload 2\n",
    "\n",
    "import torch\n",
    "import whisper\n",
    "import tqdm\n",
    "\n",
    "from torcheval.metrics.functional import bleu_score\n",
    "from datasets import load_from_disk\n",
    "from utils import audio, attacks, gradient"
   ]
  },
  {
   "cell_type": "markdown",
   "id": "1cc16a4c-2290-46f3-88e0-934430f21f9b",
   "metadata": {},
   "source": [
    "# Load stuffs"
   ]
  },
  {
   "cell_type": "code",
   "execution_count": 3,
   "id": "7c0e4e81-f950-45d7-b1ff-bb8d5f2f8322",
   "metadata": {},
   "outputs": [
    {
     "data": {
      "application/vnd.jupyter.widget-view+json": {
       "model_id": "0a80b61721a44b87bc13056d1a285f5b",
       "version_major": 2,
       "version_minor": 0
      },
      "text/plain": [
       "Loading dataset from disk:   0%|          | 0/109 [00:00<?, ?it/s]"
      ]
     },
     "metadata": {},
     "output_type": "display_data"
    }
   ],
   "source": [
    "data = load_from_disk(\"../tedlium/train.hf\").with_format(\"torch\").select(range(200))"
   ]
  },
  {
   "cell_type": "code",
   "execution_count": 4,
   "id": "45f5852f-164b-4835-b9e5-68e1a663e780",
   "metadata": {},
   "outputs": [],
   "source": [
    "snippets = torch.load(\"tensors/snippets.pt\", weights_only=True).detach()\n",
    "attacker = snippets[-1, :].unsqueeze(0)\n",
    "baseline_attacker = torch.tensor([]).unsqueeze(0)"
   ]
  },
  {
   "cell_type": "code",
   "execution_count": 5,
   "id": "6ccfbf19-edfe-40aa-afc0-8760d602a1c9",
   "metadata": {},
   "outputs": [
    {
     "name": "stderr",
     "output_type": "stream",
     "text": [
      "/home/jovyan/libs/whisper/__init__.py:150: FutureWarning: You are using `torch.load` with `weights_only=False` (the current default value), which uses the default pickle module implicitly. It is possible to construct malicious pickle data which will execute arbitrary code during unpickling (See https://github.com/pytorch/pytorch/blob/main/SECURITY.md#untrusted-models for more details). In a future release, the default value for `weights_only` will be flipped to `True`. This limits the functions that could be executed during unpickling. Arbitrary objects will no longer be allowed to be loaded via this mode unless they are explicitly allowlisted by the user via `torch.serialization.add_safe_globals`. We recommend you start setting `weights_only=True` for any use case where you don't have full control of the loaded file. Please open an issue on GitHub for any issues related to this experimental feature.\n",
      "  checkpoint = torch.load(fp, map_location=device)\n"
     ]
    }
   ],
   "source": [
    "MODEL_NAME = \"tiny.en\"\n",
    "\n",
    "model = whisper.load_model(MODEL_NAME).cuda()\n",
    "model.eval();"
   ]
  },
  {
   "cell_type": "code",
   "execution_count": 29,
   "id": "2515dfc1-fa0d-4404-b585-859499138fe4",
   "metadata": {},
   "outputs": [],
   "source": [
    "defender = attacks.PrepareFrontLowpass(cutoff=7500)\n",
    "baseline_defender = attacks.PrepareFront()"
   ]
  },
  {
   "cell_type": "code",
   "execution_count": 30,
   "id": "99360deb-30c9-4baf-b162-a0e0ac35ec11",
   "metadata": {
    "tags": []
   },
   "outputs": [
    {
     "name": "stdout",
     "output_type": "stream",
     "text": [
      "Clamp: 0.005\n",
      "Prepare Method: prepare_front_lowpass\n",
      "Snippet Size: (1, 10240)\n",
      "Position: 0\n"
     ]
    },
    {
     "name": "stderr",
     "output_type": "stream",
     "text": [
      "Inference: 100%|██████████| 200/200 [00:21<00:00,  9.31it/s, Valid Examples: 200 | Empty Sequences: 199 | Total SL: 187 | Non-empty ASL: 187.0 | Total Bleu Score: 0.6026419401168823]"
     ]
    },
    {
     "name": "stdout",
     "output_type": "stream",
     "text": [
      "\n",
      "\n",
      "Total valid examples: 200\n",
      "Success rate (Empty): 0.995\n",
      "Success rate (ASL): 0.935 (attacked) out of 181.575 (original)\n",
      "Average Bleu Score: 0.0030132096726447344\n",
      "Average WER: 0.9969230769230769\n"
     ]
    },
    {
     "name": "stderr",
     "output_type": "stream",
     "text": [
      "\n"
     ]
    }
   ],
   "source": [
    "gradient.evaluate(model, attacker, defender, data, clamp_ep=0.005, position=0)"
   ]
  },
  {
   "cell_type": "code",
   "execution_count": 20,
   "id": "3c202479-4016-4a07-83fc-0eff7170e61a",
   "metadata": {
    "tags": []
   },
   "outputs": [
    {
     "name": "stdout",
     "output_type": "stream",
     "text": [
      "Clamp: 0.005\n",
      "Prepare Method: prepare_front_lowpass\n",
      "Snippet Size: (1, 10240)\n",
      "Position: 0\n"
     ]
    },
    {
     "name": "stderr",
     "output_type": "stream",
     "text": [
      "Inference: 100%|██████████| 200/200 [01:05<00:00,  3.05it/s, Valid Examples: 200 | Empty Sequences: 1 | Total SL: 25148 | Non-empty ASL: 126.37185929648241 | Total Bleu Score: 85.53936767578125] "
     ]
    },
    {
     "name": "stdout",
     "output_type": "stream",
     "text": [
      "\n",
      "\n",
      "Total valid examples: 200\n",
      "Success rate (Empty): 0.005\n",
      "Success rate (ASL): 125.74 (attacked) out of 181.575 (original)\n",
      "Average Bleu Score: 0.4276968240737915\n",
      "Average WER: 0.5628361985541654\n"
     ]
    },
    {
     "name": "stderr",
     "output_type": "stream",
     "text": [
      "\n"
     ]
    }
   ],
   "source": [
    "gradient.evaluate(model, baseline_attacker, defender, data, clamp_ep=0.005, position=0)"
   ]
  },
  {
   "cell_type": "code",
   "execution_count": null,
   "id": "24d99d79-4147-4a01-9a6b-4a2aef9d8fe3",
   "metadata": {},
   "outputs": [],
   "source": []
  }
 ],
 "metadata": {
  "kernelspec": {
   "display_name": "Python 3 (ipykernel)",
   "language": "python",
   "name": "python3"
  },
  "language_info": {
   "codemirror_mode": {
    "name": "ipython",
    "version": 3
   },
   "file_extension": ".py",
   "mimetype": "text/x-python",
   "name": "python",
   "nbconvert_exporter": "python",
   "pygments_lexer": "ipython3",
   "version": "3.8.10"
  }
 },
 "nbformat": 4,
 "nbformat_minor": 5
}
