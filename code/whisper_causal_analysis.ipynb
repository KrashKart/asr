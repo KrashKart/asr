{
 "cells": [
  {
   "cell_type": "markdown",
   "metadata": {
    "id": "I5thx0SEBIIN"
   },
   "source": [
    "# Initialisation and Dependencies"
   ]
  },
  {
   "cell_type": "code",
   "execution_count": 1,
   "metadata": {
    "tags": []
   },
   "outputs": [],
   "source": [
    "import sys\n",
    "lib_path = '/home/jovyan/libs'\n",
    "sys.path.insert(0, lib_path)"
   ]
  },
  {
   "cell_type": "code",
   "execution_count": 2,
   "metadata": {
    "id": "9rvOFi6QJP0z",
    "tags": []
   },
   "outputs": [],
   "source": [
    "%reload_ext autoreload\n",
    "%autoreload 2\n",
    "import traceback\n",
    "import numpy as np\n",
    "import torch\n",
    "from torch.utils.data import DataLoader\n",
    "import tqdm\n",
    "\n",
    "import seaborn as sns\n",
    "import matplotlib.pyplot as plt\n",
    "\n",
    "from datasets import load_from_disk\n",
    "from transformers import WhisperForConditionalGeneration, WhisperProcessor\n",
    "\n",
    "from utils import audio, causal"
   ]
  },
  {
   "cell_type": "markdown",
   "metadata": {
    "id": "yNEPbtquUG_g"
   },
   "source": [
    "# Load Models"
   ]
  },
  {
   "cell_type": "code",
   "execution_count": 3,
   "metadata": {
    "id": "aTrPYXKiygaU",
    "tags": []
   },
   "outputs": [],
   "source": [
    "try:\n",
    "    del clean_model\n",
    "    del corrupted_model\n",
    "    print(\"Models deleted!\")\n",
    "except:\n",
    "    pass"
   ]
  },
  {
   "cell_type": "code",
   "execution_count": 4,
   "metadata": {
    "id": "zfgWJdLVJRbS",
    "tags": []
   },
   "outputs": [
    {
     "name": "stderr",
     "output_type": "stream",
     "text": [
      "/home/jovyan/libs/huggingface_hub/file_download.py:943: FutureWarning: `resume_download` is deprecated and will be removed in version 1.0.0. Downloads always resume when possible. If you want to force a new download, use `force_download=True`.\n",
      "  warnings.warn(\n"
     ]
    },
    {
     "name": "stdout",
     "output_type": "stream",
     "text": [
      "Done\n"
     ]
    }
   ],
   "source": [
    "MODEL_NAME = \"tiny.en\"\n",
    "\n",
    "clean_model = WhisperForConditionalGeneration.from_pretrained(f\"openai/whisper-{MODEL_NAME}\", local_files_only=True).cuda()\n",
    "corrupted_model = WhisperForConditionalGeneration.from_pretrained(f\"openai/whisper-{MODEL_NAME}\", local_files_only=True).cuda()\n",
    "processor = WhisperProcessor.from_pretrained(f\"openai/whisper-{MODEL_NAME}\", local_files_only=True)\n",
    "eos_id = processor.tokenizer.eos_token_id\n",
    "\n",
    "clean_model.eval()\n",
    "corrupted_model.eval()\n",
    "\n",
    "print(\"Done\")"
   ]
  },
  {
   "cell_type": "markdown",
   "metadata": {
    "id": "M8P5xS3UBTfT"
   },
   "source": [
    "# Load Data"
   ]
  },
  {
   "cell_type": "code",
   "execution_count": 5,
   "metadata": {
    "id": "upnfsCvahcEJ",
    "tags": []
   },
   "outputs": [],
   "source": [
    "tedlium_path = \"../tedlium\"\n",
    "path = f\"{tedlium_path}/test.hf\""
   ]
  },
  {
   "cell_type": "code",
   "execution_count": 6,
   "metadata": {
    "tags": []
   },
   "outputs": [],
   "source": [
    "SELECT = 100\n",
    "\n",
    "SEED = 1\n",
    "\n",
    "data = load_from_disk(path).with_format(\"torch\").shuffle(seed=SEED).select(range(SELECT))"
   ]
  },
  {
   "cell_type": "code",
   "execution_count": 7,
   "metadata": {
    "tags": []
   },
   "outputs": [],
   "source": [
    "dataloader = DataLoader(data)"
   ]
  },
  {
   "cell_type": "markdown",
   "metadata": {},
   "source": [
    "# Register Hooks"
   ]
  },
  {
   "cell_type": "code",
   "execution_count": 8,
   "metadata": {
    "tags": []
   },
   "outputs": [],
   "source": [
    "activations = {}\n",
    "debug_activations = {}\n",
    "hooks = []\n",
    "temp_hooks = []\n",
    "activation_count = [0] # global"
   ]
  },
  {
   "cell_type": "markdown",
   "metadata": {
    "tags": []
   },
   "source": [
    "# Inference"
   ]
  },
  {
   "cell_type": "code",
   "execution_count": 9,
   "metadata": {
    "tags": []
   },
   "outputs": [],
   "source": [
    "def infer_with_probs(audio, model, processor):\n",
    "    inputs = processor(audio, return_tensors=\"pt\", sampling_rate=16_000)\n",
    "    input_features = inputs.input_features.to(model.device)\n",
    "    \n",
    "    res = model.generate(input_features, return_dict_in_generate=True, output_scores=True)\n",
    "    eos_probs = torch.tensor([torch.nn.Softmax(dim=0)(s.squeeze())[eos_id] for s in res[\"scores\"]]) # get eos id for each token\n",
    "    \n",
    "    decoded = processor.decode(res.sequences.squeeze(), skip_special_tokens=True)\n",
    "    return decoded, res, eos_probs"
   ]
  },
  {
   "cell_type": "markdown",
   "metadata": {},
   "source": [
    "# Establish Clean Hooks"
   ]
  },
  {
   "cell_type": "code",
   "execution_count": 24,
   "metadata": {
    "tags": []
   },
   "outputs": [],
   "source": [
    "causal.reset(activations, debug_activations, hooks, temp_hooks)"
   ]
  },
  {
   "cell_type": "code",
   "execution_count": 25,
   "metadata": {
    "tags": []
   },
   "outputs": [],
   "source": [
    "causal.register_all_decoder_blocks(clean_model, causal.clean_hook, activations, hooks)"
   ]
  },
  {
   "cell_type": "code",
   "execution_count": 26,
   "metadata": {
    "tags": []
   },
   "outputs": [
    {
     "data": {
      "text/plain": [
       "'and some fish meals and then he said chicken pellets'"
      ]
     },
     "execution_count": 26,
     "metadata": {},
     "output_type": "execute_result"
    }
   ],
   "source": [
    "example = data[20]\n",
    "wave = example[\"audio\"]\n",
    "example[\"text\"]"
   ]
  },
  {
   "cell_type": "code",
   "execution_count": 27,
   "metadata": {
    "tags": []
   },
   "outputs": [
    {
     "data": {
      "text/plain": [
       "' and some fish meals and then he said chicken pellets.'"
      ]
     },
     "execution_count": 27,
     "metadata": {},
     "output_type": "execute_result"
    }
   ],
   "source": [
    "decoded, res, eos_probs = infer_with_probs(wave, clean_model, processor)\n",
    "decoded"
   ]
  },
  {
   "cell_type": "code",
   "execution_count": 28,
   "metadata": {
    "tags": []
   },
   "outputs": [],
   "source": [
    "clean_probs = eos_probs.unsqueeze(1).repeat(1, 4) # to be used in finding effect"
   ]
  },
  {
   "cell_type": "code",
   "execution_count": 29,
   "metadata": {
    "tags": []
   },
   "outputs": [],
   "source": [
    "assert activations, \"Activations is empty! Reverify\""
   ]
  },
  {
   "cell_type": "markdown",
   "metadata": {},
   "source": [
    "# Corrupt Model and Run"
   ]
  },
  {
   "cell_type": "code",
   "execution_count": 30,
   "metadata": {
    "tags": []
   },
   "outputs": [
    {
     "data": {
      "text/plain": [
       "(' and some fish meals and then he said chicken pellets.',\n",
       " tensor([0.0000e+00, 4.2728e-05, 3.6651e-06, 2.8615e-06, 2.3279e-04, 7.3043e-05,\n",
       "         1.1265e-04, 1.8888e-05, 1.1879e-04, 4.4060e-04, 1.6771e-01, 9.9249e-01]))"
      ]
     },
     "execution_count": 30,
     "metadata": {},
     "output_type": "execute_result"
    }
   ],
   "source": [
    "# Verify model is sane before inserting hook\n",
    "dd, rr, p = infer_with_probs(wave, corrupted_model, processor)\n",
    "dd, p"
   ]
  },
  {
   "cell_type": "code",
   "execution_count": 31,
   "metadata": {
    "tags": []
   },
   "outputs": [],
   "source": [
    "embed_hook = causal.register_decoder_embedding_hook(corrupted_model, causal.corrupt_embed_hook, hooks, alpha=1)"
   ]
  },
  {
   "cell_type": "code",
   "execution_count": 32,
   "metadata": {
    "tags": []
   },
   "outputs": [
    {
     "data": {
      "text/plain": [
       "' and.'"
      ]
     },
     "execution_count": 32,
     "metadata": {},
     "output_type": "execute_result"
    }
   ],
   "source": [
    "dd, rr, p = infer_with_probs(wave, corrupted_model, processor)\n",
    "dd"
   ]
  },
  {
   "cell_type": "markdown",
   "metadata": {},
   "source": [
    "# Restore Layer"
   ]
  },
  {
   "cell_type": "code",
   "execution_count": null,
   "metadata": {
    "tags": []
   },
   "outputs": [],
   "source": [
    "# results = []\n",
    "# temp_holder = []\n",
    "# try:\n",
    "#     for token in tqdm.tqdm(range(len(activations[0])), desc=\"Tokens\", leave=True):\n",
    "#         blocks = []\n",
    "#         for block in range(4):\n",
    "#             correction_hook = causal.register_at_decoder_block(corrupted_model, causal.correction_hook, block, temp_holder, block, token, activations)\n",
    "#             _, _, eos_prob = infer_with_probs(wave, corrupted_model, processor)\n",
    "#             correction_hook.remove()\n",
    "#             blocks.append(eos_prob[1])\n",
    "#         results.append(torch.stack(blocks))\n",
    "# except Exception as e:\n",
    "#     correction_hook.remove()\n",
    "#     traceback.print_exc()\n",
    "# finally:\n",
    "#     temp_holder.clear()\n",
    "#     del temp_holder"
   ]
  },
  {
   "cell_type": "code",
   "execution_count": null,
   "metadata": {
    "tags": []
   },
   "outputs": [],
   "source": [
    "# results_total"
   ]
  },
  {
   "cell_type": "code",
   "execution_count": null,
   "metadata": {
    "tags": []
   },
   "outputs": [],
   "source": [
    "# results_total.shape"
   ]
  },
  {
   "cell_type": "code",
   "execution_count": null,
   "metadata": {
    "tags": []
   },
   "outputs": [],
   "source": [
    "# fig, ax = plt.subplots()\n",
    "# ax = sns.heatmap(torch.abs(results_total - clean_probs), ax=ax)\n",
    "# ax.set_xlabel(\"Restored Layer\")\n",
    "# ax.set_ylabel(\"Restored Token number\")\n",
    "# ax.set_title(\"Probability of EOS over restored tokens and layers\")\n",
    "# plt.show()"
   ]
  },
  {
   "cell_type": "markdown",
   "metadata": {},
   "source": [
    "# Aggregate over many runs"
   ]
  },
  {
   "cell_type": "code",
   "execution_count": 34,
   "metadata": {
    "tags": []
   },
   "outputs": [
    {
     "name": "stderr",
     "output_type": "stream",
     "text": [
      "Aggregate: 100% 10/10 [12:03<00:00, 72.38s/it, Corrupted run with correction: 12/12]\n"
     ]
    }
   ],
   "source": [
    "results = []\n",
    "temp_holder = []\n",
    "total_effect = direct_effect = indirect_effect = 0\n",
    "\n",
    "ITERS = 10\n",
    "\n",
    "pbar = tqdm.tqdm(range(10), leave=True, ncols=0, desc=\"Aggregate\")\n",
    "\n",
    "try:\n",
    "    for i in pbar:\n",
    "        results.clear()\n",
    "        causal.reset(activations, debug_activations, hooks, temp_hooks)\n",
    "        causal.register_all_decoder_blocks(clean_model, causal.clean_hook, activations, hooks)\n",
    "\n",
    "        # collect activations and find clean probs\n",
    "        pbar.set_postfix_str(\"Clean run\")\n",
    "        _, _, clean_probs = infer_with_probs(wave, clean_model, processor)\n",
    "        clean_probs = clean_probs.unsqueeze(1).repeat(1, 4)\n",
    "        assert activations, \"Activations is empty! Reverify\"\n",
    "\n",
    "        # corrupt model and find corrupt probs\n",
    "        pbar.set_postfix_str(\"Corrupted run\")\n",
    "        embed_hook = causal.register_decoder_embedding_hook(corrupted_model, causal.corrupt_embed_hook, hooks, alpha=3)\n",
    "        _, _, corrupt_probs = infer_with_probs(wave, corrupted_model, processor)\n",
    "        corrupt_probs = corrupt_probs.unsqueeze(1).repeat(1, 4)\n",
    "        corrupt_probs = torch.nn.functional.pad(corrupt_probs, (0, 0, 0, clean_probs.size(0) - corrupt_probs.size(0)), value=1.0)\n",
    "\n",
    "        # sequentially correct layers at tokens\n",
    "        for token in range(len(activations[0])):\n",
    "            pbar.set_postfix_str(f\"Corrupted run with correction: {token + 1}/{len(activations[0])}\")\n",
    "            blocks = []\n",
    "            for block in range(4):\n",
    "                correction_hook = causal.register_at_decoder_block(corrupted_model, causal.correction_hook, block, temp_holder, block, token, activations)\n",
    "                _, _, correction_probs = infer_with_probs(wave, corrupted_model, processor)\n",
    "                correction_hook.remove()\n",
    "                blocks.append(correction_probs[1])\n",
    "            results.append(torch.stack(blocks))\n",
    "        correction_probs = torch.stack(results)\n",
    "        \n",
    "        # TE, DE and IE\n",
    "        total_effect += clean_probs - corrupt_probs\n",
    "        direct_effect += clean_probs - correction_probs\n",
    "        indirect_effect += correction_probs - corrupt_probs\n",
    "        \n",
    "except Exception as e:\n",
    "    correction_hook.remove()\n",
    "    traceback.print_exc()\n",
    "finally:\n",
    "    temp_holder.clear()"
   ]
  },
  {
   "cell_type": "code",
   "execution_count": 53,
   "metadata": {},
   "outputs": [
    {
     "data": {
      "image/png": "[encoded data removed]",
      "text/plain": [
       "<Figure size 640x480 with 2 Axes>"
      ]
     },
     "metadata": {},
     "output_type": "display_data"
    }
   ],
   "source": [
    "# IE = P(eot | correction) - P(eot | corrupted)\n",
    "\n",
    "ax = sns.heatmap(torch.abs(indirect_effect / 10))\n",
    "ax.set_xlabel(\"Restored Heads\")\n",
    "ax.set_ylabel(\"Token restored at\")\n",
    "ax.invert_yaxis()\n",
    "plt.show()"
   ]
  },
  {
   "cell_type": "code",
   "execution_count": null,
   "metadata": {
    "tags": []
   },
   "outputs": [],
   "source": [
    "indirect_effect"
   ]
  },
  {
   "cell_type": "code",
   "execution_count": null,
   "metadata": {
    "tags": []
   },
   "outputs": [],
   "source": [
    "# TE = P(eot | clean) - P(eot | corrupted)\n",
    "\n",
    "ax = sns.heatmap(total_effect / 10)\n",
    "ax.set_xlabel(\"Restored Heads\")\n",
    "ax.set_ylabel(\"Token restored at\")\n",
    "plt.show()"
   ]
  },
  {
   "cell_type": "code",
   "execution_count": null,
   "metadata": {
    "tags": []
   },
   "outputs": [],
   "source": [
    "# DE = P(eot | correction) - P(eot | )\n",
    "\n",
    "ax = sns.heatmap(direct_effect / 10)\n",
    "ax.set_xlabel(\"Restored Heads\")\n",
    "ax.set_ylabel(\"Token restored at\")\n",
    "plt.show()"
   ]
  },
  {
   "cell_type": "code",
   "execution_count": 43,
   "metadata": {},
   "outputs": [
    {
     "data": {
      "image/png": "[encoded data removed]",
      "text/plain": [
       "<Figure size 640x480 with 2 Axes>"
      ]
     },
     "metadata": {},
     "output_type": "display_data"
    }
   ],
   "source": [
    "# IE / TE\n",
    "\n",
    "ax = sns.heatmap(torch.abs(indirect_effect) / torch.abs(total_effect), vmin=0.0, vmax=2.0)\n",
    "ax.set_xlabel(\"Restored Heads\")\n",
    "ax.set_ylabel(\"Token restored at\")\n",
    "plt.show()"
   ]
  },
  {
   "cell_type": "code",
   "execution_count": 37,
   "metadata": {
    "tags": []
   },
   "outputs": [
    {
     "data": {
      "text/plain": [
       "tensor([[ 0.1253,  0.0875,  0.2423,  0.0297],\n",
       "        [-0.2258, -0.2006, -0.2805, -0.2814],\n",
       "        [-0.2644, -0.3415, -0.2225, -0.4143],\n",
       "        [-0.5507, -0.5275, -0.6060, -0.5030],\n",
       "        [-0.4156, -0.5008, -0.3875, -0.4462],\n",
       "        [-0.3746, -0.4737, -0.4972, -0.3765],\n",
       "        [-0.4755, -0.4458, -0.3144, -0.5049],\n",
       "        [-0.5016, -0.4458, -0.3766, -0.4425],\n",
       "        [-0.4314, -0.3000, -0.5675, -0.4253],\n",
       "        [-0.5312, -0.3794, -0.4655, -0.4981],\n",
       "        [-0.5018, -0.4294, -0.4025, -0.3882],\n",
       "        [-0.3989, -0.4106, -0.4707, -0.4708]])"
      ]
     },
     "execution_count": 37,
     "metadata": {},
     "output_type": "execute_result"
    }
   ],
   "source": [
    "indirect_effect / 10"
   ]
  },
  {
   "cell_type": "code",
   "execution_count": 38,
   "metadata": {
    "tags": []
   },
   "outputs": [
    {
     "data": {
      "text/plain": [
       "tensor([[ 0.0000,  0.0000,  0.0000,  0.0000],\n",
       "        [-0.2814, -0.2814, -0.2814, -0.2814],\n",
       "        [-0.6283, -0.6283, -0.6283, -0.6283],\n",
       "        [-0.7339, -0.7339, -0.7339, -0.7339],\n",
       "        [-0.7365, -0.7365, -0.7365, -0.7365],\n",
       "        [-0.7259, -0.7259, -0.7259, -0.7259],\n",
       "        [-0.7055, -0.7055, -0.7055, -0.7055],\n",
       "        [-0.7069, -0.7069, -0.7069, -0.7069],\n",
       "        [-0.7063, -0.7063, -0.7063, -0.7063],\n",
       "        [-0.7110, -0.7110, -0.7110, -0.7110],\n",
       "        [-0.5391, -0.5391, -0.5391, -0.5391],\n",
       "        [ 0.2861,  0.2861,  0.2861,  0.2861]])"
      ]
     },
     "execution_count": 38,
     "metadata": {},
     "output_type": "execute_result"
    }
   ],
   "source": [
    "total_effect / 10"
   ]
  },
  {
   "cell_type": "code",
   "execution_count": null,
   "metadata": {
    "tags": []
   },
   "outputs": [],
   "source": [
    "corrupt_probs"
   ]
  },
  {
   "cell_type": "code",
   "execution_count": null,
   "metadata": {
    "tags": []
   },
   "outputs": [],
   "source": [
    "clean_probs"
   ]
  },
  {
   "cell_type": "code",
   "execution_count": 40,
   "metadata": {
    "tags": []
   },
   "outputs": [
    {
     "data": {
      "text/plain": [
       "tensor([[   inf,    inf,    inf,    inf],\n",
       "        [0.8026, 0.7130, 0.9970, 1.0000],\n",
       "        [0.4208, 0.5436, 0.3541, 0.6594],\n",
       "        [0.7504, 0.7188, 0.8257, 0.6854],\n",
       "        [0.5642, 0.6799, 0.5262, 0.6059],\n",
       "        [0.5160, 0.6526, 0.6849, 0.5187],\n",
       "        [0.6740, 0.6320, 0.4456, 0.7158],\n",
       "        [0.7096, 0.6306, 0.5328, 0.6260],\n",
       "        [0.6108, 0.4248, 0.8035, 0.6022],\n",
       "        [0.7471, 0.5336, 0.6548, 0.7005],\n",
       "        [0.9307, 0.7965, 0.7466, 0.7200],\n",
       "        [1.3940, 1.4349, 1.6449, 1.6452]])"
      ]
     },
     "execution_count": 40,
     "metadata": {},
     "output_type": "execute_result"
    }
   ],
   "source": [
    "torch.abs(indirect_effect) / torch.abs(total_effect)"
   ]
  },
  {
   "cell_type": "code",
   "execution_count": null,
   "metadata": {},
   "outputs": [],
   "source": []
  }
 ],
 "metadata": {
  "accelerator": "GPU",
  "colab": {
   "gpuType": "T4",
   "provenance": []
  },
  "kernelspec": {
   "display_name": "Python 3 (ipykernel)",
   "language": "python",
   "name": "python3"
  },
  "language_info": {
   "codemirror_mode": {
    "name": "ipython",
    "version": 3
   },
   "file_extension": ".py",
   "mimetype": "text/x-python",
   "name": "python",
   "nbconvert_exporter": "python",
   "pygments_lexer": "ipython3",
   "version": "3.8.10"
  }
 },
 "nbformat": 4,
 "nbformat_minor": 4
}
