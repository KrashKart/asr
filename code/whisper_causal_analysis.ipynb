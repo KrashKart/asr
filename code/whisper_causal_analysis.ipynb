{
 "cells": [
  {
   "cell_type": "markdown",
   "metadata": {
    "id": "I5thx0SEBIIN"
   },
   "source": [
    "# Initialisation and Dependencies"
   ]
  },
  {
   "cell_type": "code",
   "execution_count": 1,
   "metadata": {
    "tags": []
   },
   "outputs": [],
   "source": [
    "import sys\n",
    "lib_path = '/home/jovyan/libs'\n",
    "sys.path.insert(0, lib_path)"
   ]
  },
  {
   "cell_type": "code",
   "execution_count": 44,
   "metadata": {
    "id": "9rvOFi6QJP0z",
    "tags": []
   },
   "outputs": [],
   "source": [
    "import traceback\n",
    "import numpy as np\n",
    "import torch\n",
    "from torch.utils.data import DataLoader\n",
    "import tqdm\n",
    "\n",
    "import seaborn as sns\n",
    "import matplotlib.pyplot as plt\n",
    "\n",
    "from datasets import load_from_disk\n",
    "from transformers import WhisperForConditionalGeneration, WhisperProcessor\n",
    "\n",
    "from utils import audio, causal"
   ]
  },
  {
   "cell_type": "markdown",
   "metadata": {
    "id": "yNEPbtquUG_g"
   },
   "source": [
    "# Load Models"
   ]
  },
  {
   "cell_type": "code",
   "execution_count": 3,
   "metadata": {
    "id": "aTrPYXKiygaU",
    "tags": []
   },
   "outputs": [],
   "source": [
    "try:\n",
    "    del clean_model\n",
    "    del corrupted_model\n",
    "    print(\"Models deleted!\")\n",
    "except:\n",
    "    pass"
   ]
  },
  {
   "cell_type": "code",
   "execution_count": 4,
   "metadata": {
    "id": "zfgWJdLVJRbS",
    "tags": []
   },
   "outputs": [
    {
     "name": "stderr",
     "output_type": "stream",
     "text": [
      "/home/jovyan/libs/huggingface_hub/file_download.py:943: FutureWarning: `resume_download` is deprecated and will be removed in version 1.0.0. Downloads always resume when possible. If you want to force a new download, use `force_download=True`.\n",
      "  warnings.warn(\n"
     ]
    },
    {
     "name": "stdout",
     "output_type": "stream",
     "text": [
      "Done\n"
     ]
    }
   ],
   "source": [
    "MODEL_NAME = \"tiny.en\"\n",
    "\n",
    "clean_model = WhisperForConditionalGeneration.from_pretrained(f\"openai/whisper-{MODEL_NAME}\", local_files_only=True).cuda()\n",
    "corrupted_model = WhisperForConditionalGeneration.from_pretrained(f\"openai/whisper-{MODEL_NAME}\", local_files_only=True).cuda()\n",
    "processor = WhisperProcessor.from_pretrained(f\"openai/whisper-{MODEL_NAME}\", local_files_only=True)\n",
    "eos_id = processor.tokenizer.eos_token_id\n",
    "\n",
    "clean_model.eval()\n",
    "corrupted_model.eval()\n",
    "\n",
    "print(\"Done\")"
   ]
  },
  {
   "cell_type": "markdown",
   "metadata": {
    "id": "M8P5xS3UBTfT"
   },
   "source": [
    "# Load Data"
   ]
  },
  {
   "cell_type": "code",
   "execution_count": 5,
   "metadata": {
    "id": "upnfsCvahcEJ",
    "tags": []
   },
   "outputs": [],
   "source": [
    "tedlium_path = \"../tedlium\"\n",
    "path = f\"{tedlium_path}/test.hf\""
   ]
  },
  {
   "cell_type": "code",
   "execution_count": 6,
   "metadata": {
    "tags": []
   },
   "outputs": [],
   "source": [
    "SELECT = 100\n",
    "\n",
    "SEED = 1\n",
    "\n",
    "data = load_from_disk(path).with_format(\"torch\").shuffle(seed=SEED).select(range(SELECT))"
   ]
  },
  {
   "cell_type": "code",
   "execution_count": 45,
   "metadata": {
    "tags": []
   },
   "outputs": [],
   "source": [
    "dataloader = DataLoader(data)"
   ]
  },
  {
   "cell_type": "markdown",
   "metadata": {},
   "source": [
    "# Register Hooks"
   ]
  },
  {
   "cell_type": "code",
   "execution_count": 7,
   "metadata": {
    "tags": []
   },
   "outputs": [],
   "source": [
    "activations = {}\n",
    "debug_activations = {}\n",
    "hooks = []\n",
    "temp_hooks = []\n",
    "activation_count = [0] # global"
   ]
  },
  {
   "cell_type": "markdown",
   "metadata": {},
   "source": [
    "# Inference"
   ]
  },
  {
   "cell_type": "code",
   "execution_count": 8,
   "metadata": {
    "tags": []
   },
   "outputs": [],
   "source": [
    "def infer_with_probs(audio, model, processor):\n",
    "    inputs = processor(audio, return_tensors=\"pt\", sampling_rate=16_000)\n",
    "    input_features = inputs.input_features.to(model.device)\n",
    "    \n",
    "    res = model.generate(input_features, return_dict_in_generate=True, output_scores=True)\n",
    "    eos_probs = torch.tensor([torch.nn.Softmax(dim=0)(s.squeeze())[eos_id] for s in res[\"scores\"]]) # get eos id for each token\n",
    "    \n",
    "    decoded = processor.decode(res.sequences.squeeze(), skip_special_tokens=True)\n",
    "    return decoded, res, eos_probs"
   ]
  },
  {
   "cell_type": "markdown",
   "metadata": {},
   "source": [
    "# Establish Clean Hooks"
   ]
  },
  {
   "cell_type": "code",
   "execution_count": 29,
   "metadata": {
    "tags": []
   },
   "outputs": [],
   "source": [
    "causal.reset(activations, debug_activations, hooks, temp_hooks)"
   ]
  },
  {
   "cell_type": "code",
   "execution_count": 30,
   "metadata": {
    "tags": []
   },
   "outputs": [],
   "source": [
    "causal.register_all_decoder_blocks(clean_model, causal.clean_hook, activations, hooks)"
   ]
  },
  {
   "cell_type": "code",
   "execution_count": 31,
   "metadata": {
    "tags": []
   },
   "outputs": [
    {
     "data": {
      "text/plain": [
       "'and some fish meals and then he said chicken pellets'"
      ]
     },
     "execution_count": 31,
     "metadata": {},
     "output_type": "execute_result"
    }
   ],
   "source": [
    "example = data[20]\n",
    "wave = example[\"audio\"]\n",
    "example[\"text\"]"
   ]
  },
  {
   "cell_type": "code",
   "execution_count": 32,
   "metadata": {
    "tags": []
   },
   "outputs": [
    {
     "data": {
      "text/plain": [
       "' and some fish meals and then he said chicken pellets.'"
      ]
     },
     "execution_count": 32,
     "metadata": {},
     "output_type": "execute_result"
    }
   ],
   "source": [
    "decoded, res, eos_probs = infer_with_probs(wave, clean_model, processor)\n",
    "decoded"
   ]
  },
  {
   "cell_type": "code",
   "execution_count": 33,
   "metadata": {
    "tags": []
   },
   "outputs": [],
   "source": [
    "clean_probs = eos_probs.unsqueeze(1).repeat(1, 4) # to be used in finding effect"
   ]
  },
  {
   "cell_type": "code",
   "execution_count": 34,
   "metadata": {
    "tags": []
   },
   "outputs": [],
   "source": [
    "assert activations, \"Activations is empty! Reverify\""
   ]
  },
  {
   "cell_type": "markdown",
   "metadata": {},
   "source": [
    "# Corrupt Model and Run"
   ]
  },
  {
   "cell_type": "code",
   "execution_count": 35,
   "metadata": {
    "tags": []
   },
   "outputs": [
    {
     "data": {
      "text/plain": [
       "(' and some fish meals and then he said chicken pellets.',\n",
       " tensor([0.0000e+00, 4.2728e-05, 3.6651e-06, 2.8615e-06, 2.3279e-04, 7.3043e-05,\n",
       "         1.1265e-04, 1.8888e-05, 1.1879e-04, 4.4060e-04, 1.6771e-01, 9.9249e-01]))"
      ]
     },
     "execution_count": 35,
     "metadata": {},
     "output_type": "execute_result"
    }
   ],
   "source": [
    "# Verify model is sane before inserting hook\n",
    "dd, rr, p = infer_with_probs(wave, corrupted_model, processor)\n",
    "dd, p"
   ]
  },
  {
   "cell_type": "code",
   "execution_count": 36,
   "metadata": {
    "tags": []
   },
   "outputs": [],
   "source": [
    "embed_hook = causal.register_embedding_hook(corrupted_model, causal.corrupt_embed_hook, hooks, alpha=3)"
   ]
  },
  {
   "cell_type": "code",
   "execution_count": 37,
   "metadata": {
    "tags": []
   },
   "outputs": [
    {
     "data": {
      "text/plain": [
       "','"
      ]
     },
     "execution_count": 37,
     "metadata": {},
     "output_type": "execute_result"
    }
   ],
   "source": [
    "dd, rr, p = infer_with_probs(wave, corrupted_model, processor)\n",
    "dd"
   ]
  },
  {
   "cell_type": "markdown",
   "metadata": {},
   "source": [
    "# Restore Layer"
   ]
  },
  {
   "cell_type": "code",
   "execution_count": 38,
   "metadata": {
    "tags": []
   },
   "outputs": [
    {
     "name": "stderr",
     "output_type": "stream",
     "text": [
      "Tokens: 100%|██████████| 12/12 [00:12<00:00,  1.05s/it]\n"
     ]
    }
   ],
   "source": [
    "results = []\n",
    "temp_holder = []\n",
    "try:\n",
    "    for token in tqdm.tqdm(range(len(activations[0])), desc=\"Tokens\", leave=True):\n",
    "        blocks = []\n",
    "        for block in range(4):\n",
    "            correction_hook = causal.register_at_decoder_block(corrupted_model, causal.correction_hook, block, temp_holder, block, token, activations)\n",
    "            _, _, eos_prob = infer_with_probs(wave, corrupted_model, processor)\n",
    "            correction_hook.remove()\n",
    "            blocks.append(eos_prob[1])\n",
    "        results.append(torch.stack(blocks))\n",
    "except Exception as e:\n",
    "    correction_hook.remove()\n",
    "    traceback.print_exc()\n",
    "finally:\n",
    "    temp_holder.clear()\n",
    "    del temp_holder"
   ]
  },
  {
   "cell_type": "code",
   "execution_count": 39,
   "metadata": {
    "tags": []
   },
   "outputs": [
    {
     "data": {
      "text/plain": [
       "tensor([[3.6050e-01, 1.2948e-01, 2.8952e-02, 3.8931e-01],\n",
       "        [6.7585e-03, 2.7845e-04, 3.5803e-01, 2.4546e-04],\n",
       "        [2.5023e-01, 2.0341e-01, 3.1830e-03, 3.6651e-06],\n",
       "        [9.6784e-02, 8.2551e-01, 2.6557e-01, 3.7461e-01],\n",
       "        [6.1783e-02, 4.5765e-01, 3.0878e-01, 1.4322e-03],\n",
       "        [1.5646e-01, 1.8064e-01, 3.6921e-01, 4.6473e-03],\n",
       "        [8.6289e-02, 5.8400e-02, 3.4982e-01, 2.7978e-02],\n",
       "        [3.6256e-03, 7.7119e-03, 4.4480e-01, 6.2465e-01],\n",
       "        [6.5919e-01, 1.1799e-01, 2.8387e-01, 2.9068e-01],\n",
       "        [4.9678e-01, 6.0574e-01, 4.5234e-02, 4.7710e-01],\n",
       "        [2.4798e-01, 2.5699e-01, 3.5190e-01, 1.4374e-01],\n",
       "        [2.0811e-01, 5.0359e-01, 1.9015e-02, 7.4897e-03]])"
      ]
     },
     "execution_count": 39,
     "metadata": {},
     "output_type": "execute_result"
    }
   ],
   "source": [
    "results_total"
   ]
  },
  {
   "cell_type": "code",
   "execution_count": 40,
   "metadata": {
    "tags": []
   },
   "outputs": [
    {
     "data": {
      "text/plain": [
       "torch.Size([12, 4])"
      ]
     },
     "execution_count": 40,
     "metadata": {},
     "output_type": "execute_result"
    }
   ],
   "source": [
    "results_total.shape"
   ]
  },
  {
   "cell_type": "code",
   "execution_count": 42,
   "metadata": {
    "tags": []
   },
   "outputs": [
    {
     "data": {
      "image/png": "[encoded data removed]",
      "text/plain": [
       "<Figure size 640x480 with 2 Axes>"
      ]
     },
     "metadata": {},
     "output_type": "display_data"
    }
   ],
   "source": [
    "fig, ax = plt.subplots()\n",
    "ax = sns.heatmap(torch.abs(results_total - clean_probs), ax=ax)\n",
    "ax.set_xlabel(\"Restored Layer\")\n",
    "ax.set_ylabel(\"Restored Token number\")\n",
    "ax.set_title(\"Probability of EOS over restored tokens and layers\")\n",
    "plt.show()"
   ]
  },
  {
   "cell_type": "markdown",
   "metadata": {},
   "source": [
    "# Aggregate over many runs"
   ]
  },
  {
   "cell_type": "code",
   "execution_count": 82,
   "metadata": {
    "tags": []
   },
   "outputs": [
    {
     "name": "stderr",
     "output_type": "stream",
     "text": [
      "Aggregate: 100% 10/10 [01:53<00:00, 11.40s/it, Corrupted run with correction: 12/12]\n"
     ]
    }
   ],
   "source": [
    "results = []\n",
    "temp_holder = []\n",
    "total_effect = direct_effect = indirect_effect = 0\n",
    "\n",
    "ITERS = 10\n",
    "\n",
    "pbar = tqdm.tqdm(range(10), leave=True, ncols=0, desc=\"Aggregate\")\n",
    "\n",
    "try:\n",
    "    for i in pbar:\n",
    "        results.clear()\n",
    "        causal.reset(activations, debug_activations, hooks, temp_hooks)\n",
    "        causal.register_all_decoder_blocks(clean_model, causal.clean_hook, activations, hooks)\n",
    "\n",
    "        # collect activations and find clean probs\n",
    "        pbar.set_postfix_str(\"Clean run\")\n",
    "        _, _, clean_probs = infer_with_probs(wave, clean_model, processor)\n",
    "        clean_probs = clean_probs.unsqueeze(1).repeat(1, 4)\n",
    "        assert activations, \"Activations is empty! Reverify\"\n",
    "\n",
    "        # corrupt model and find corrupt probs\n",
    "        pbar.set_postfix_str(\"Corrupted run\")\n",
    "        embed_hook = causal.register_embedding_hook(corrupted_model, causal.corrupt_embed_hook, hooks, alpha=3)\n",
    "        _, _, corrupt_probs = infer_with_probs(wave, corrupted_model, processor)\n",
    "        corrupt_probs = corrupt_probs.unsqueeze(1).repeat(1, 4)\n",
    "        corrupt_probs = torch.nn.functional.pad(corrupt_probs, (0, 0, 0, clean_probs.size(0) - corrupt_probs.size(0)), value=1.0)\n",
    "\n",
    "        # sequentially correct layers at tokens\n",
    "        for token in range(len(activations[0])):\n",
    "            pbar.set_postfix_str(f\"Corrupted run with correction: {token + 1}/{len(activations[0])}\")\n",
    "            blocks = []\n",
    "            for block in range(4):\n",
    "                correction_hook = causal.register_at_decoder_block(corrupted_model, causal.correction_hook, block, temp_holder, block, token, activations)\n",
    "                _, _, correction_probs = infer_with_probs(wave, corrupted_model, processor)\n",
    "                correction_hook.remove()\n",
    "                blocks.append(correction_probs[1])\n",
    "            results.append(torch.stack(blocks))\n",
    "        correction_probs = torch.stack(results)\n",
    "        \n",
    "        # TE, DE and IE\n",
    "        total_effect += clean_probs - corrupt_probs\n",
    "        direct_effect += clean_probs - correction_probs\n",
    "        indirect_effect += correction_probs - corrupt_probs\n",
    "        \n",
    "except Exception as e:\n",
    "    correction_hook.remove()\n",
    "    traceback.print_exc()\n",
    "finally:\n",
    "    temp_holder.clear()"
   ]
  },
  {
   "cell_type": "code",
   "execution_count": 84,
   "metadata": {},
   "outputs": [
    {
     "data": {
      "image/png": "[encoded data removed]",
      "text/plain": [
       "<Figure size 640x480 with 2 Axes>"
      ]
     },
     "metadata": {},
     "output_type": "display_data"
    }
   ],
   "source": [
    "# IE = P(eot | corrupted with correction) - P(eot | corrupted)\n",
    "\n",
    "ax = sns.heatmap(indirect_effect / 10)\n",
    "ax.set_xlabel(\"Restored Heads\")\n",
    "ax.set_ylabel(\"Token restored at\")\n",
    "plt.show()"
   ]
  },
  {
   "cell_type": "code",
   "execution_count": 85,
   "metadata": {
    "tags": []
   },
   "outputs": [
    {
     "data": {
      "image/png": "[encoded data removed]",
      "text/plain": [
       "<Figure size 640x480 with 2 Axes>"
      ]
     },
     "metadata": {},
     "output_type": "display_data"
    }
   ],
   "source": [
    "# TE = P(eot | no corruption) - P(eot | corrupted with correction)\n",
    "\n",
    "ax = sns.heatmap(total_effect / 10)\n",
    "ax.set_xlabel(\"Restored Heads\")\n",
    "ax.set_ylabel(\"Token restored at\")\n",
    "plt.show()"
   ]
  },
  {
   "cell_type": "code",
   "execution_count": 86,
   "metadata": {
    "tags": []
   },
   "outputs": [
    {
     "data": {
      "image/png": "[encoded data removed]",
      "text/plain": [
       "<Figure size 640x480 with 2 Axes>"
      ]
     },
     "metadata": {},
     "output_type": "display_data"
    }
   ],
   "source": [
    "# IE = P(eot | corrupted with correction) - P(eot | corrupted)\n",
    "\n",
    "ax = sns.heatmap(direct_effect / 10)\n",
    "ax.set_xlabel(\"Restored Heads\")\n",
    "ax.set_ylabel(\"Token restored at\")\n",
    "plt.show()"
   ]
  },
  {
   "cell_type": "code",
   "execution_count": null,
   "metadata": {},
   "outputs": [],
   "source": []
  }
 ],
 "metadata": {
  "accelerator": "GPU",
  "colab": {
   "gpuType": "T4",
   "provenance": []
  },
  "kernelspec": {
   "display_name": "Python 3 (ipykernel)",
   "language": "python",
   "name": "python3"
  },
  "language_info": {
   "codemirror_mode": {
    "name": "ipython",
    "version": 3
   },
   "file_extension": ".py",
   "mimetype": "text/x-python",
   "name": "python",
   "nbconvert_exporter": "python",
   "pygments_lexer": "ipython3",
   "version": "3.8.10"
  }
 },
 "nbformat": 4,
 "nbformat_minor": 4
}
