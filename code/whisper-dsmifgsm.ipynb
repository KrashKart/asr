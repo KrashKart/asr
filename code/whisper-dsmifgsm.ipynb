{
 "cells": [
  {
   "cell_type": "code",
   "execution_count": 1,
   "id": "f2eddfce-5184-4e86-ac86-3c93d8cb49f6",
   "metadata": {
    "tags": []
   },
   "outputs": [],
   "source": [
    "import sys\n",
    "lib_path = '/home/jovyan/libs'\n",
    "sys.path.insert(0, lib_path)"
   ]
  },
  {
   "cell_type": "code",
   "execution_count": 2,
   "id": "5bc0cc82-5f33-4b0d-b753-54d66be9f8c5",
   "metadata": {
    "tags": []
   },
   "outputs": [],
   "source": [
    "%reload_ext autoreload\n",
    "%autoreload 2\n",
    "\n",
    "import gc, math, traceback, datetime\n",
    "\n",
    "import numpy as np\n",
    "\n",
    "import torch\n",
    "import torch.nn.functional as F\n",
    "from torch.utils.data import DataLoader\n",
    "from torch.utils.tensorboard import SummaryWriter\n",
    "\n",
    "from datasets import load_from_disk\n",
    "\n",
    "import whisper\n",
    "from whisper.tokenizer import get_tokenizer\n",
    "\n",
    "from utils import audio, gradient, gpu"
   ]
  },
  {
   "cell_type": "markdown",
   "id": "ca944260-2c7b-4247-8205-a933b2500aeb",
   "metadata": {},
   "source": [
    "# Load model and data"
   ]
  },
  {
   "cell_type": "code",
   "execution_count": 3,
   "id": "18cf9c78-3257-412b-bd0c-600b43f13621",
   "metadata": {
    "tags": []
   },
   "outputs": [
    {
     "data": {
      "application/vnd.jupyter.widget-view+json": {
       "model_id": "e4da6019f5104a26a6cd36347c07c52f",
       "version_major": 2,
       "version_minor": 0
      },
      "text/plain": [
       "Loading dataset from disk:   0%|          | 0/109 [00:00<?, ?it/s]"
      ]
     },
     "metadata": {},
     "output_type": "display_data"
    }
   ],
   "source": [
    "test = load_from_disk(\"../tedlium/test.hf\").with_format(\"torch\").select(range(100))\n",
    "train = load_from_disk(\"../tedlium/train.hf\").with_format(\"torch\").select(range(100))\n",
    "\n",
    "# wave = test[0][\"audio\"]"
   ]
  },
  {
   "cell_type": "code",
   "execution_count": 4,
   "id": "f61b7a68-4911-43d8-a76f-00e06a4554ca",
   "metadata": {
    "tags": []
   },
   "outputs": [
    {
     "name": "stdout",
     "output_type": "stream",
     "text": [
      "Device: cuda\n"
     ]
    },
    {
     "name": "stderr",
     "output_type": "stream",
     "text": [
      "/home/jovyan/libs/whisper/__init__.py:150: FutureWarning: You are using `torch.load` with `weights_only=False` (the current default value), which uses the default pickle module implicitly. It is possible to construct malicious pickle data which will execute arbitrary code during unpickling (See https://github.com/pytorch/pytorch/blob/main/SECURITY.md#untrusted-models for more details). In a future release, the default value for `weights_only` will be flipped to `True`. This limits the functions that could be executed during unpickling. Arbitrary objects will no longer be allowed to be loaded via this mode unless they are explicitly allowlisted by the user via `torch.serialization.add_safe_globals`. We recommend you start setting `weights_only=True` for any use case where you don't have full control of the loaded file. Please open an issue on GitHub for any issues related to this experimental feature.\n",
      "  checkpoint = torch.load(fp, map_location=device)\n"
     ]
    }
   ],
   "source": [
    "device = gpu.get_device()\n",
    "\n",
    "model = whisper.load_model(\"tiny.en\").to(device)\n",
    "# cache, hooks = model.install_kv_cache_hooks()\n",
    "target_id, sot_ids = gradient._get_ids(model)"
   ]
  },
  {
   "cell_type": "code",
   "execution_count": 5,
   "id": "b34e653b-1266-446d-8188-a7f18705b9ac",
   "metadata": {
    "tags": []
   },
   "outputs": [],
   "source": [
    "model.eval();"
   ]
  },
  {
   "cell_type": "markdown",
   "id": "f5c56096-d0db-4bb7-bbcd-e342d1653669",
   "metadata": {},
   "source": [
    "# Model and Audio Generation"
   ]
  },
  {
   "cell_type": "code",
   "execution_count": 6,
   "id": "db3b337c-fbb0-4f4a-ad5e-31426a24afa1",
   "metadata": {
    "tags": []
   },
   "outputs": [],
   "source": [
    "def shakedrop_hooks(mode, uni_dist, b_dist):\n",
    "    assert mode in [\"fwd\", \"bwd\", \"test\"]\n",
    "    def hook(module, x, output):\n",
    "        x = x[0]\n",
    "        b_l = b_dist.sample()\n",
    "        alpha = uni_dist.sample()\n",
    "        beta = uni_dist.sample()\n",
    "        return output\n",
    "        if mode == \"fwd\":\n",
    "            return x + (b_l + alpha - b_l * alpha) * output\n",
    "        elif mode == \"bwd\":\n",
    "            return x + (b_l + beta - b_l * beta) * output\n",
    "        else:\n",
    "            return x + (b_dist.mean + uni_dist.mean - b_dist.mean * uni_dist.mean) * output\n",
    "    return hook"
   ]
  },
  {
   "cell_type": "code",
   "execution_count": 7,
   "id": "309c7a75-327f-4755-80a1-157a72bc9d3a",
   "metadata": {
    "tags": []
   },
   "outputs": [],
   "source": [
    "def generate_hooks(model_limit, model_layers):\n",
    "    hooks = []\n",
    "    uni, b = torch.distributions.uniform.Uniform(0, 1), torch.distributions.bernoulli.Bernoulli(0.4)\n",
    "    for _ in range(model_limit):\n",
    "        temp_fwd, temp_bwd, temp_test = [], [], []\n",
    "        temp = {}\n",
    "        for _ in range(model_layers):\n",
    "            temp_fwd.append(shakedrop_hooks(\"fwd\", uni, b))\n",
    "            temp_bwd.append(shakedrop_hooks(\"bwd\", uni, b))\n",
    "            temp_test.append(shakedrop_hooks(\"test\", uni, b))\n",
    "        temp[\"fwd\"], temp[\"bwd\"], temp[\"test\"] = temp_fwd, temp_bwd, temp_test\n",
    "        hooks.append(temp)\n",
    "    return hooks"
   ]
  },
  {
   "cell_type": "code",
   "execution_count": 8,
   "id": "df75fa04-b6a1-45ab-9d95-4e048633ae40",
   "metadata": {
    "tags": []
   },
   "outputs": [],
   "source": [
    "MODEL_LIMIT = 5\n",
    "MODEL_LAYERS = len(model.encoder.blocks + model.decoder.blocks)\n",
    "\n",
    "hooks = generate_hooks(MODEL_LIMIT, MODEL_LAYERS)"
   ]
  },
  {
   "cell_type": "code",
   "execution_count": 9,
   "id": "5b19c400-492b-4a86-870c-b0d00d80b24b",
   "metadata": {
    "tags": []
   },
   "outputs": [],
   "source": [
    "def generate_data(adv_audio, delta, data_limit):\n",
    "    result = []\n",
    "    for _ in range(data_limit):\n",
    "        result.append(adv_audio + torch.randn(adv_audio.shape).to(adv_audio.device) * delta)\n",
    "    return torch.stack(result)"
   ]
  },
  {
   "cell_type": "code",
   "execution_count": 10,
   "id": "e244d399-d804-48e4-b28d-ad45372edd48",
   "metadata": {
    "tags": []
   },
   "outputs": [],
   "source": [
    "DATA_LIMIT = 10\n",
    "DELTA = 0.5\n",
    "\n",
    "# data = generate_data(wave, DELTA, DATA_LIMIT)"
   ]
  },
  {
   "cell_type": "code",
   "execution_count": null,
   "id": "c1081f60-a0a3-4b0c-b1c2-ff07b61b2337",
   "metadata": {},
   "outputs": [],
   "source": []
  },
  {
   "cell_type": "markdown",
   "id": "8b714beb-6969-48ad-a9aa-338deb5b1776",
   "metadata": {},
   "source": [
    "# Training Loop"
   ]
  },
  {
   "cell_type": "code",
   "execution_count": 11,
   "id": "af0c0d91-166d-4d74-8024-4b7506acfca5",
   "metadata": {
    "tags": []
   },
   "outputs": [],
   "source": [
    "def forward(model: whisper.model.Whisper, audio, sot_ids, target_id: int):\n",
    "    audio = audio.to(model.device)\n",
    "    mel = gradient.audio_to_mel_batch(audio)\n",
    "    logits = gradient.mel_to_logits_batch(model, mel, sot_ids)[:,-1,:].squeeze(dim=1)\n",
    "    loss = gradient.get_loss_batch(logits, target_id)\n",
    "    return loss\n",
    "\n",
    "def mel_to_logits_batch(model: whisper.model.Whisper, mel_batch, sot_ids):\n",
    "    sot_ids = sot_ids.unsqueeze(0).expand(mel_batch.size(0), -1).to(model.device)\n",
    "    return model.forward(mel_batch, sot_ids)"
   ]
  },
  {
   "cell_type": "code",
   "execution_count": 12,
   "id": "717e1da7-7346-4be1-befa-5c2783caf35c",
   "metadata": {
    "tags": []
   },
   "outputs": [],
   "source": [
    "def register_hooks_on_model(model, hooks, mode):\n",
    "    assert mode in [\"fwd\", \"bwd\", \"test\"]\n",
    "    handles = []\n",
    "    layers = model.encoder.blocks + model.decoder.blocks\n",
    "    for i, h in enumerate(hooks[mode]):\n",
    "        if mode == \"bwd\":\n",
    "            han = layers[i].register_backward_hook(h)\n",
    "        else:\n",
    "            han = layers[i].register_forward_hook(h)\n",
    "        handles.append(han)\n",
    "    return handles\n",
    "\n",
    "def unregister_hooks_on_model(handles):\n",
    "    for h in handles:\n",
    "        h.remove()"
   ]
  },
  {
   "cell_type": "code",
   "execution_count": 13,
   "id": "9c2b11f0-6b9a-4371-af70-34f8e9442a6f",
   "metadata": {
    "tags": []
   },
   "outputs": [],
   "source": [
    "import tqdm\n",
    "import traceback\n",
    "\n",
    "def loop(model, adv_audio, train_dataset, hooks, sot_ids, target_id, iters, mu, grad_mask, clamp_epsilon, lr):\n",
    "    try:\n",
    "        g_t = 0.0\n",
    "        g_st = g_wt = None\n",
    "        loss = white_box_loss = None\n",
    "        adv_audio = adv_audio.to(model.device)\n",
    "        benchmark_example = train[0][\"audio\"].to(model.device).unsqueeze(0)\n",
    "        fwd_handles = bwd_handles = None\n",
    "        pbar = tqdm.tqdm(range(iters), leave=True, ncols=0)\n",
    "        for i in pbar:\n",
    "            if i != 0 and i % 5 == 0:\n",
    "                lr *= 0.75\n",
    "            g_st = iter_loss = 0.0\n",
    "\n",
    "            pbar.set_postfix_str(\"Calculating white box loss\")\n",
    "            adv_audio.requires_grad = True\n",
    "            white_box_loss = forward(model, torch.cat([adv_audio, benchmark_example], dim=1), sot_ids, target_id)\n",
    "            white_box_loss.backward()\n",
    "            g_wt = adv_audio.grad.to(model.device)\n",
    "            adv_audio.requires_grad = False\n",
    "\n",
    "            pbar.set_postfix_str(\"Generating data\")\n",
    "            data = generate_data(adv_audio, DELTA, DATA_LIMIT).squeeze().detach()\n",
    "            dataset = DataLoader(data, batch_size=1)\n",
    "            \n",
    "            for data_idx, d in enumerate(dataset):\n",
    "                d = d.to(model.device)\n",
    "                if not d\n",
    "                d.requires_grad = True\n",
    "                \n",
    "                for model_idx, m in enumerate(hooks):                                     \n",
    "                    for batch_idx, b in enumerate(train_dataset):\n",
    "                        pbar.set_postfix_str(f\"Current: Data {data_idx + 1}/{len(dataset)} | Model {model_idx + 1}/{len(hooks)} | Train Batch {batch_idx + 1}/{len(train_dataset)}\")\n",
    "                        fwd_handles = register_hooks_on_model(model, m, \"fwd\")\n",
    "                        b = b.to(model.device)\n",
    "                        d_stacked = d.repeat(b.size(0), 1)\n",
    "                        loss = forward(model, torch.cat([d_stacked, b], dim=1), sot_ids, target_id)\n",
    "                        iter_loss += loss.detach().cpu().item()\n",
    "                        unregister_hooks_on_model(fwd_handles)\n",
    "\n",
    "                        bwd_handles = register_hooks_on_model(model, m, \"bwd\")\n",
    "                        loss.backward()\n",
    "                        unregister_hooks_on_model(bwd_handles)\n",
    "\n",
    "                        g_st += torch.sum(d.grad, dim=0)\n",
    "\n",
    "                d.grad.zero_()\n",
    "                d.requires_grad = False\n",
    "                d.cpu()\n",
    "\n",
    "            pbar.set_postfix_str(\"Updating adv_data\")\n",
    "            g_st *= 1 / (MODEL_LIMIT * DATA_LIMIT)\n",
    "            mask = (torch.rand(g_wt.shape) < grad_mask).float().to(model.device)\n",
    "            g_t = mu * g_t + (mask * g_wt + g_st) / torch.abs(mask * g_wt + g_st)\n",
    "            sign = torch.where(g_t > 0, 1, -1).to(device)\n",
    "            adv_audio = (adv_audio - lr * sign).clamp(min=-clamp_epsilon, max=clamp_epsilon)\n",
    "            \n",
    "            pbar.write(f\"White box loss: {white_box_loss} | Iteration loss: {iter_loss / (len(hooks) * len(dataset) * len(train_dataset))}\")\n",
    "    except Exception as e:\n",
    "        traceback.print_exc()\n",
    "    finally:\n",
    "        if fwd_handles:\n",
    "            unregister_hooks_on_model(fwd_handles)\n",
    "            fwd_handles.clear()\n",
    "        if bwd_handles:\n",
    "            unregister_hooks_on_model(bwd_handles)\n",
    "            bwd_handles.clear()\n",
    "        if loss:\n",
    "            del loss\n",
    "        if white_box_loss is not None:\n",
    "            del white_box_loss\n",
    "        if g_st is not None:\n",
    "            del g_st\n",
    "        if g_wt is not None:\n",
    "            del g_wt\n",
    "        \n",
    "        gc.collect()\n",
    "        torch.cuda.empty_cache()\n",
    "        gpu.print_cuda_usage()\n",
    "        return adv_audio.detach().cpu()"
   ]
  },
  {
   "cell_type": "code",
   "execution_count": 14,
   "id": "b3bc231d-449c-49f1-84e3-cef427860168",
   "metadata": {
    "tags": []
   },
   "outputs": [],
   "source": [
    "snippet = torch.rand((1, 10240))"
   ]
  },
  {
   "cell_type": "code",
   "execution_count": 15,
   "id": "6d766497-8475-463f-a3a2-d597e7a31e21",
   "metadata": {
    "tags": []
   },
   "outputs": [],
   "source": [
    "from torch.utils.data import DataLoader \n",
    "def collate(ls):\n",
    "    return ls[0][\"audio\"].unsqueeze(0)\n",
    "test_dataset = DataLoader(test)\n",
    "train_dataset = DataLoader(train, batch_size=20, collate_fn=collate)"
   ]
  },
  {
   "cell_type": "code",
   "execution_count": 16,
   "id": "4e95307d-695e-4ab5-bc18-9cfef4a2de59",
   "metadata": {
    "tags": []
   },
   "outputs": [],
   "source": [
    "from utils.attacks import PrepareFront\n",
    "# gradient.evaluate(model, snippet, PrepareFront((1, 1600)), dataset, 0.005, 0)"
   ]
  },
  {
   "cell_type": "code",
   "execution_count": 17,
   "id": "c955d7f3-febc-4782-98f7-74216eae2d4c",
   "metadata": {
    "tags": []
   },
   "outputs": [
    {
     "name": "stderr",
     "output_type": "stream",
     "text": [
      "  3% 1/30 [01:09<33:35, 69.49s/it, Generating data]                          "
     ]
    },
    {
     "name": "stdout",
     "output_type": "stream",
     "text": [
      "White box loss: 8.820366859436035 | Iteration loss: 8.733935947418212\n"
     ]
    },
    {
     "name": "stderr",
     "output_type": "stream",
     "text": [
      "  7% 2/30 [02:14<31:14, 66.96s/it, Current: Data 1/10 | Model 1/5 | Train Batch 2/5] "
     ]
    },
    {
     "name": "stdout",
     "output_type": "stream",
     "text": [
      "White box loss: 8.688360214233398 | Iteration loss: 8.642768926620484\n"
     ]
    },
    {
     "name": "stderr",
     "output_type": "stream",
     "text": [
      " 10% 3/30 [03:18<29:32, 65.66s/it, Generating data]                                  "
     ]
    },
    {
     "name": "stdout",
     "output_type": "stream",
     "text": [
      "White box loss: 8.734025955200195 | Iteration loss: 8.622789793014526\n"
     ]
    },
    {
     "name": "stderr",
     "output_type": "stream",
     "text": [
      " 13% 4/30 [04:18<27:21, 63.14s/it, Current: Data 1/10 | Model 1/5 | Train Batch 2/5] "
     ]
    },
    {
     "name": "stdout",
     "output_type": "stream",
     "text": [
      "White box loss: 8.598867416381836 | Iteration loss: 8.605182180404663\n"
     ]
    },
    {
     "name": "stderr",
     "output_type": "stream",
     "text": [
      " 17% 5/30 [05:18<25:54, 62.20s/it, Current: Data 1/10 | Model 1/5 | Train Batch 1/5] "
     ]
    },
    {
     "name": "stdout",
     "output_type": "stream",
     "text": [
      "White box loss: 8.832133293151855 | Iteration loss: 8.642843122482299\n"
     ]
    },
    {
     "name": "stderr",
     "output_type": "stream",
     "text": [
      " 20% 6/30 [06:19<24:38, 61.62s/it, Generating data]                                  "
     ]
    },
    {
     "name": "stdout",
     "output_type": "stream",
     "text": [
      "White box loss: 8.752519607543945 | Iteration loss: 8.636240825653076\n"
     ]
    },
    {
     "name": "stderr",
     "output_type": "stream",
     "text": [
      " 23% 7/30 [07:23<23:55, 62.40s/it, Current: Data 1/10 | Model 1/5 | Train Batch 1/5] "
     ]
    },
    {
     "name": "stdout",
     "output_type": "stream",
     "text": [
      "White box loss: 8.708740234375 | Iteration loss: 8.590551710128784\n"
     ]
    },
    {
     "name": "stderr",
     "output_type": "stream",
     "text": [
      " 27% 8/30 [08:22<22:33, 61.53s/it, Current: Data 1/10 | Model 1/5 | Train Batch 1/5] "
     ]
    },
    {
     "name": "stdout",
     "output_type": "stream",
     "text": [
      "White box loss: 8.663551330566406 | Iteration loss: 8.624800338745118\n"
     ]
    },
    {
     "name": "stderr",
     "output_type": "stream",
     "text": [
      " 27% 8/30 [08:42<23:56, 65.30s/it, Current: Data 4/10 | Model 2/5 | Train Batch 2/5]\n"
     ]
    },
    {
     "name": "stdout",
     "output_type": "stream",
     "text": [
      "0.409637451171875 GB\n"
     ]
    }
   ],
   "source": [
    "adv_snippet = loop(model, snippet, train_dataset, hooks, sot_ids, target_id, iters=30, mu=0.9, grad_mask=0.0, clamp_epsilon=0.005, lr=1)"
   ]
  },
  {
   "cell_type": "code",
   "execution_count": 18,
   "id": "c6bd3cd8-e0c4-4e33-b8fe-6bdd3a685b9d",
   "metadata": {
    "tags": []
   },
   "outputs": [
    {
     "name": "stdout",
     "output_type": "stream",
     "text": [
      "Clamp: 0.005\n",
      "Prepare Method: prepare_front\n",
      "Snippet Size: (1, 1600)\n",
      "Position: 0\n"
     ]
    },
    {
     "name": "stderr",
     "output_type": "stream",
     "text": [
      "Inference: 100%|██████████| 100/100 [00:36<00:00,  2.73it/s, Valid Examples: 97 | Empty Sequences: 0 | Total SL: 18165 | Non_empty ASL: 187.2680412371134]"
     ]
    },
    {
     "name": "stdout",
     "output_type": "stream",
     "text": [
      "\n",
      "\n",
      "Total valid examples: 97\n",
      "Success rate (Empty): 0.0\n",
      "Success rate (ASL): 187.2680412371134 (attacked) out of 187.84536082474227 (original)\n"
     ]
    },
    {
     "name": "stderr",
     "output_type": "stream",
     "text": [
      "\n"
     ]
    }
   ],
   "source": [
    "gradient.evaluate(model, adv_snippet, PrepareFront((1, 1600)), test_dataset, 0.005, 0)"
   ]
  },
  {
   "cell_type": "code",
   "execution_count": 19,
   "id": "33f7d0a6-ed45-4dcc-8358-26a8d6c4f103",
   "metadata": {
    "tags": []
   },
   "outputs": [
    {
     "data": {
      "text/plain": [
       "<matplotlib.image.AxesImage at 0x7f9cfe0effd0>"
      ]
     },
     "execution_count": 19,
     "metadata": {},
     "output_type": "execute_result"
    },
    {
     "data": {
      "image/png": "[encoded data removed]",
      "text/plain": [
       "<Figure size 640x480 with 1 Axes>"
      ]
     },
     "metadata": {},
     "output_type": "display_data"
    }
   ],
   "source": [
    "import matplotlib.pyplot as plt\n",
    "\n",
    "plt.imshow(gradient.audio_to_mel(snippet).squeeze()[:, :20])"
   ]
  },
  {
   "cell_type": "code",
   "execution_count": 20,
   "id": "b9a5787e-53fb-48a8-8697-1e517e5f4281",
   "metadata": {
    "tags": []
   },
   "outputs": [
    {
     "data": {
      "text/plain": [
       "<matplotlib.image.AxesImage at 0x7f9cf00919a0>"
      ]
     },
     "execution_count": 20,
     "metadata": {},
     "output_type": "execute_result"
    },
    {
     "data": {
      "image/png": "[encoded data removed]",
      "text/plain": [
       "<Figure size 640x480 with 1 Axes>"
      ]
     },
     "metadata": {},
     "output_type": "display_data"
    }
   ],
   "source": [
    "plt.imshow(gradient.audio_to_mel(adv_snippet.cpu()).squeeze()[:, :20])"
   ]
  },
  {
   "cell_type": "code",
   "execution_count": 21,
   "id": "dcd47406-7584-459d-976b-3b57c8ee3bb7",
   "metadata": {},
   "outputs": [],
   "source": [
    "from utils import gpu"
   ]
  },
  {
   "cell_type": "code",
   "execution_count": 22,
   "id": "3c53b167-1368-43ab-aeb0-fef502d07d10",
   "metadata": {
    "tags": []
   },
   "outputs": [
    {
     "name": "stdout",
     "output_type": "stream",
     "text": [
      "0.2980194091796875 GB\n"
     ]
    }
   ],
   "source": [
    "gc.collect()\n",
    "torch.cuda.empty_cache()\n",
    "gpu.print_cuda_usage()"
   ]
  },
  {
   "cell_type": "code",
   "execution_count": null,
   "id": "687aa9b9-ef90-4acb-bb95-4af7c20718c2",
   "metadata": {},
   "outputs": [],
   "source": []
  }
 ],
 "metadata": {
  "kernelspec": {
   "display_name": "Python 3 (ipykernel)",
   "language": "python",
   "name": "python3"
  },
  "language_info": {
   "codemirror_mode": {
    "name": "ipython",
    "version": 3
   },
   "file_extension": ".py",
   "mimetype": "text/x-python",
   "name": "python",
   "nbconvert_exporter": "python",
   "pygments_lexer": "ipython3",
   "version": "3.8.10"
  }
 },
 "nbformat": 4,
 "nbformat_minor": 5
}
